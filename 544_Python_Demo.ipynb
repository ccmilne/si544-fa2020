{
 "cells": [
  {
   "cell_type": "markdown",
   "metadata": {
    "slideshow": {
     "slide_type": "slide"
    }
   },
   "source": [
    "# SI 370: Correlation and Regression"
   ]
  },
  {
   "cell_type": "code",
   "execution_count": 2,
   "metadata": {},
   "outputs": [],
   "source": [
    "import warnings\n",
    "warnings.filterwarnings('ignore')"
   ]
  },
  {
   "cell_type": "code",
   "execution_count": 3,
   "metadata": {
    "slideshow": {
     "slide_type": "subslide"
    }
   },
   "outputs": [],
   "source": [
    "import pandas as pd\n",
    "import seaborn as sns\n",
    "import numpy as np\n",
    "import matplotlib.pyplot as plt"
   ]
  },
  {
   "cell_type": "code",
   "execution_count": 45,
   "metadata": {
    "scrolled": true,
    "slideshow": {
     "slide_type": "subslide"
    }
   },
   "outputs": [
    {
     "data": {
      "text/html": [
       "<div>\n",
       "<style scoped>\n",
       "    .dataframe tbody tr th:only-of-type {\n",
       "        vertical-align: middle;\n",
       "    }\n",
       "\n",
       "    .dataframe tbody tr th {\n",
       "        vertical-align: top;\n",
       "    }\n",
       "\n",
       "    .dataframe thead th {\n",
       "        text-align: right;\n",
       "    }\n",
       "</style>\n",
       "<table border=\"1\" class=\"dataframe\">\n",
       "  <thead>\n",
       "    <tr style=\"text-align: right;\">\n",
       "      <th></th>\n",
       "      <th>ID</th>\n",
       "      <th>prof_ID</th>\n",
       "      <th>score</th>\n",
       "      <th>age</th>\n",
       "      <th>bty_avg</th>\n",
       "      <th>gender</th>\n",
       "      <th>ethnicity</th>\n",
       "      <th>language</th>\n",
       "      <th>rank</th>\n",
       "      <th>pic_outfit</th>\n",
       "      <th>pic_color</th>\n",
       "      <th>cls_did_eval</th>\n",
       "      <th>cls_students</th>\n",
       "      <th>cls_level</th>\n",
       "    </tr>\n",
       "  </thead>\n",
       "  <tbody>\n",
       "    <tr>\n",
       "      <th>0</th>\n",
       "      <td>1</td>\n",
       "      <td>1</td>\n",
       "      <td>4.7</td>\n",
       "      <td>36</td>\n",
       "      <td>5.0</td>\n",
       "      <td>female</td>\n",
       "      <td>minority</td>\n",
       "      <td>english</td>\n",
       "      <td>tenure track</td>\n",
       "      <td>not formal</td>\n",
       "      <td>color</td>\n",
       "      <td>24</td>\n",
       "      <td>43</td>\n",
       "      <td>upper</td>\n",
       "    </tr>\n",
       "    <tr>\n",
       "      <th>1</th>\n",
       "      <td>2</td>\n",
       "      <td>1</td>\n",
       "      <td>4.1</td>\n",
       "      <td>36</td>\n",
       "      <td>5.0</td>\n",
       "      <td>female</td>\n",
       "      <td>minority</td>\n",
       "      <td>english</td>\n",
       "      <td>tenure track</td>\n",
       "      <td>not formal</td>\n",
       "      <td>color</td>\n",
       "      <td>86</td>\n",
       "      <td>125</td>\n",
       "      <td>upper</td>\n",
       "    </tr>\n",
       "    <tr>\n",
       "      <th>2</th>\n",
       "      <td>3</td>\n",
       "      <td>1</td>\n",
       "      <td>3.9</td>\n",
       "      <td>36</td>\n",
       "      <td>5.0</td>\n",
       "      <td>female</td>\n",
       "      <td>minority</td>\n",
       "      <td>english</td>\n",
       "      <td>tenure track</td>\n",
       "      <td>not formal</td>\n",
       "      <td>color</td>\n",
       "      <td>76</td>\n",
       "      <td>125</td>\n",
       "      <td>upper</td>\n",
       "    </tr>\n",
       "    <tr>\n",
       "      <th>3</th>\n",
       "      <td>4</td>\n",
       "      <td>1</td>\n",
       "      <td>4.8</td>\n",
       "      <td>36</td>\n",
       "      <td>5.0</td>\n",
       "      <td>female</td>\n",
       "      <td>minority</td>\n",
       "      <td>english</td>\n",
       "      <td>tenure track</td>\n",
       "      <td>not formal</td>\n",
       "      <td>color</td>\n",
       "      <td>77</td>\n",
       "      <td>123</td>\n",
       "      <td>upper</td>\n",
       "    </tr>\n",
       "    <tr>\n",
       "      <th>4</th>\n",
       "      <td>5</td>\n",
       "      <td>2</td>\n",
       "      <td>4.6</td>\n",
       "      <td>59</td>\n",
       "      <td>3.0</td>\n",
       "      <td>male</td>\n",
       "      <td>not minority</td>\n",
       "      <td>english</td>\n",
       "      <td>tenured</td>\n",
       "      <td>not formal</td>\n",
       "      <td>color</td>\n",
       "      <td>17</td>\n",
       "      <td>20</td>\n",
       "      <td>upper</td>\n",
       "    </tr>\n",
       "  </tbody>\n",
       "</table>\n",
       "</div>"
      ],
      "text/plain": [
       "   ID  prof_ID  score  age  bty_avg  gender     ethnicity language  \\\n",
       "0   1        1    4.7   36      5.0  female      minority  english   \n",
       "1   2        1    4.1   36      5.0  female      minority  english   \n",
       "2   3        1    3.9   36      5.0  female      minority  english   \n",
       "3   4        1    4.8   36      5.0  female      minority  english   \n",
       "4   5        2    4.6   59      3.0    male  not minority  english   \n",
       "\n",
       "           rank  pic_outfit pic_color  cls_did_eval  cls_students cls_level  \n",
       "0  tenure track  not formal     color            24            43     upper  \n",
       "1  tenure track  not formal     color            86           125     upper  \n",
       "2  tenure track  not formal     color            76           125     upper  \n",
       "3  tenure track  not formal     color            77           123     upper  \n",
       "4       tenured  not formal     color            17            20     upper  "
      ]
     },
     "execution_count": 45,
     "metadata": {},
     "output_type": "execute_result"
    }
   ],
   "source": [
    "evals = pd.read_csv('https://raw.githubusercontent.com/umsi-data-science/data/main/evals.csv')\n",
    "evals.head()"
   ]
  },
  {
   "cell_type": "code",
   "execution_count": 10,
   "metadata": {},
   "outputs": [],
   "source": [
    "evals = evals[['score','age','bty_avg']]"
   ]
  },
  {
   "cell_type": "code",
   "execution_count": 11,
   "metadata": {
    "slideshow": {
     "slide_type": "-"
    }
   },
   "outputs": [
    {
     "data": {
      "text/plain": [
       "<seaborn.axisgrid.PairGrid at 0x7f7eec1d7390>"
      ]
     },
     "execution_count": 11,
     "metadata": {},
     "output_type": "execute_result"
    },
    {
     "data": {
      "image/png": "[encoded data removed]",
      "text/plain": [
       "<Figure size 540x540 with 12 Axes>"
      ]
     },
     "metadata": {
      "needs_background": "light"
     },
     "output_type": "display_data"
    }
   ],
   "source": [
    "sns.pairplot(evals)"
   ]
  },
  {
   "cell_type": "code",
   "execution_count": 12,
   "metadata": {
    "slideshow": {
     "slide_type": "subslide"
    }
   },
   "outputs": [
    {
     "data": {
      "text/html": [
       "<div>\n",
       "<style scoped>\n",
       "    .dataframe tbody tr th:only-of-type {\n",
       "        vertical-align: middle;\n",
       "    }\n",
       "\n",
       "    .dataframe tbody tr th {\n",
       "        vertical-align: top;\n",
       "    }\n",
       "\n",
       "    .dataframe thead th {\n",
       "        text-align: right;\n",
       "    }\n",
       "</style>\n",
       "<table border=\"1\" class=\"dataframe\">\n",
       "  <thead>\n",
       "    <tr style=\"text-align: right;\">\n",
       "      <th></th>\n",
       "      <th>score</th>\n",
       "      <th>age</th>\n",
       "      <th>bty_avg</th>\n",
       "    </tr>\n",
       "  </thead>\n",
       "  <tbody>\n",
       "    <tr>\n",
       "      <th>score</th>\n",
       "      <td>1.000000</td>\n",
       "      <td>-0.107032</td>\n",
       "      <td>0.187142</td>\n",
       "    </tr>\n",
       "    <tr>\n",
       "      <th>age</th>\n",
       "      <td>-0.107032</td>\n",
       "      <td>1.000000</td>\n",
       "      <td>-0.304603</td>\n",
       "    </tr>\n",
       "    <tr>\n",
       "      <th>bty_avg</th>\n",
       "      <td>0.187142</td>\n",
       "      <td>-0.304603</td>\n",
       "      <td>1.000000</td>\n",
       "    </tr>\n",
       "  </tbody>\n",
       "</table>\n",
       "</div>"
      ],
      "text/plain": [
       "            score       age   bty_avg\n",
       "score    1.000000 -0.107032  0.187142\n",
       "age     -0.107032  1.000000 -0.304603\n",
       "bty_avg  0.187142 -0.304603  1.000000"
      ]
     },
     "execution_count": 12,
     "metadata": {},
     "output_type": "execute_result"
    }
   ],
   "source": [
    "# to calculate all possible correlation coefficients in a dataframe\n",
    "evals.corr()"
   ]
  },
  {
   "cell_type": "markdown",
   "metadata": {
    "slideshow": {
     "slide_type": "subslide"
    }
   },
   "source": [
    "A heatmap is a really useful visualization technique for large correlation matrices (less so for small correlation matrices:"
   ]
  },
  {
   "cell_type": "code",
   "execution_count": 14,
   "metadata": {
    "slideshow": {
     "slide_type": "subslide"
    }
   },
   "outputs": [
    {
     "data": {
      "text/plain": [
       "<AxesSubplot:>"
      ]
     },
     "execution_count": 14,
     "metadata": {},
     "output_type": "execute_result"
    },
    {
     "data": {
      "image/png": "[encoded data removed]",
      "text/plain": [
       "<Figure size 432x288 with 2 Axes>"
      ]
     },
     "metadata": {
      "needs_background": "light"
     },
     "output_type": "display_data"
    }
   ],
   "source": [
    "sns.heatmap(evals.corr())"
   ]
  },
  {
   "cell_type": "markdown",
   "metadata": {
    "slideshow": {
     "slide_type": "subslide"
    }
   },
   "source": [
    "We can also use a different type of color palette to highlight the differences:"
   ]
  },
  {
   "cell_type": "code",
   "execution_count": 15,
   "metadata": {
    "slideshow": {
     "slide_type": "subslide"
    }
   },
   "outputs": [
    {
     "data": {
      "text/plain": [
       "<AxesSubplot:>"
      ]
     },
     "execution_count": 15,
     "metadata": {},
     "output_type": "execute_result"
    },
    {
     "data": {
      "image/png": "[encoded data removed]",
      "text/plain": [
       "<Figure size 432x288 with 2 Axes>"
      ]
     },
     "metadata": {
      "needs_background": "light"
     },
     "output_type": "display_data"
    }
   ],
   "source": [
    "sns.heatmap(evals.corr(),cmap=sns.color_palette(\"BrBG\"))"
   ]
  },
  {
   "cell_type": "markdown",
   "metadata": {},
   "source": [
    "We can also create a more complex visualization that incorporates\n",
    "histograms of each variable as well as a scatterplot with a\n",
    "regression line including confidence intervals."
   ]
  },
  {
   "cell_type": "code",
   "execution_count": 23,
   "metadata": {
    "slideshow": {
     "slide_type": "subslide"
    }
   },
   "outputs": [
    {
     "data": {
      "image/png": "[encoded data removed]",
      "text/plain": [
       "<Figure size 432x432 with 3 Axes>"
      ]
     },
     "metadata": {
      "needs_background": "light"
     },
     "output_type": "display_data"
    }
   ],
   "source": [
    "g = sns.JointGrid(data=evals,x='score',y='bty_avg')\n",
    "g = g.plot(sns.regplot, sns.histplot)"
   ]
  },
  {
   "cell_type": "markdown",
   "metadata": {
    "colab_type": "text",
    "id": "6FyOXTsgU2ui",
    "slideshow": {
     "slide_type": "slide"
    }
   },
   "source": [
    "## Ordinary Least Squares (OLS) Regression"
   ]
  },
  {
   "cell_type": "code",
   "execution_count": 20,
   "metadata": {
    "colab": {},
    "colab_type": "code",
    "id": "1JuuPtlTU2ui",
    "slideshow": {
     "slide_type": "subslide"
    }
   },
   "outputs": [],
   "source": [
    "import statsmodels.api as sm\n",
    "import statsmodels.formula.api as smf"
   ]
  },
  {
   "cell_type": "markdown",
   "metadata": {
    "colab_type": "text",
    "id": "ATYDr80MU2uk",
    "slideshow": {
     "slide_type": "subslide"
    }
   },
   "source": [
    "statsmodels uses R-Style formulas: y ~ x1 + x2 + x3 + ...\n",
    "\n",
    "1. y represents the outcome/dependent variable\n",
    "2. x1, x2, x3, etc represent explanatory/independent variables "
   ]
  },
  {
   "cell_type": "code",
   "execution_count": 46,
   "metadata": {
    "scrolled": false,
    "slideshow": {
     "slide_type": "subslide"
    }
   },
   "outputs": [
    {
     "data": {
      "text/html": [
       "<table class=\"simpletable\">\n",
       "<caption>OLS Regression Results</caption>\n",
       "<tr>\n",
       "  <th>Dep. Variable:</th>          <td>score</td>      <th>  R-squared:         </th> <td>   0.035</td>\n",
       "</tr>\n",
       "<tr>\n",
       "  <th>Model:</th>                   <td>OLS</td>       <th>  Adj. R-squared:    </th> <td>   0.033</td>\n",
       "</tr>\n",
       "<tr>\n",
       "  <th>Method:</th>             <td>Least Squares</td>  <th>  F-statistic:       </th> <td>   16.73</td>\n",
       "</tr>\n",
       "<tr>\n",
       "  <th>Date:</th>             <td>Wed, 11 Nov 2020</td> <th>  Prob (F-statistic):</th> <td>5.08e-05</td>\n",
       "</tr>\n",
       "<tr>\n",
       "  <th>Time:</th>                 <td>13:19:47</td>     <th>  Log-Likelihood:    </th> <td> -366.22</td>\n",
       "</tr>\n",
       "<tr>\n",
       "  <th>No. Observations:</th>      <td>   463</td>      <th>  AIC:               </th> <td>   736.4</td>\n",
       "</tr>\n",
       "<tr>\n",
       "  <th>Df Residuals:</th>          <td>   461</td>      <th>  BIC:               </th> <td>   744.7</td>\n",
       "</tr>\n",
       "<tr>\n",
       "  <th>Df Model:</th>              <td>     1</td>      <th>                     </th>     <td> </td>   \n",
       "</tr>\n",
       "<tr>\n",
       "  <th>Covariance Type:</th>      <td>nonrobust</td>    <th>                     </th>     <td> </td>   \n",
       "</tr>\n",
       "</table>\n",
       "<table class=\"simpletable\">\n",
       "<tr>\n",
       "      <td></td>         <th>coef</th>     <th>std err</th>      <th>t</th>      <th>P>|t|</th>  <th>[0.025</th>    <th>0.975]</th>  \n",
       "</tr>\n",
       "<tr>\n",
       "  <th>Intercept</th> <td>    3.8803</td> <td>    0.076</td> <td>   50.961</td> <td> 0.000</td> <td>    3.731</td> <td>    4.030</td>\n",
       "</tr>\n",
       "<tr>\n",
       "  <th>bty_avg</th>   <td>    0.0666</td> <td>    0.016</td> <td>    4.090</td> <td> 0.000</td> <td>    0.035</td> <td>    0.099</td>\n",
       "</tr>\n",
       "</table>\n",
       "<table class=\"simpletable\">\n",
       "<tr>\n",
       "  <th>Omnibus:</th>       <td>33.007</td> <th>  Durbin-Watson:     </th> <td>   1.267</td>\n",
       "</tr>\n",
       "<tr>\n",
       "  <th>Prob(Omnibus):</th> <td> 0.000</td> <th>  Jarque-Bera (JB):  </th> <td>  38.797</td>\n",
       "</tr>\n",
       "<tr>\n",
       "  <th>Skew:</th>          <td>-0.709</td> <th>  Prob(JB):          </th> <td>3.76e-09</td>\n",
       "</tr>\n",
       "<tr>\n",
       "  <th>Kurtosis:</th>      <td> 3.007</td> <th>  Cond. No.          </th> <td>    14.9</td>\n",
       "</tr>\n",
       "</table><br/><br/>Notes:<br/>[1] Standard Errors assume that the covariance matrix of the errors is correctly specified."
      ],
      "text/plain": [
       "<class 'statsmodels.iolib.summary.Summary'>\n",
       "\"\"\"\n",
       "                            OLS Regression Results                            \n",
       "==============================================================================\n",
       "Dep. Variable:                  score   R-squared:                       0.035\n",
       "Model:                            OLS   Adj. R-squared:                  0.033\n",
       "Method:                 Least Squares   F-statistic:                     16.73\n",
       "Date:                Wed, 11 Nov 2020   Prob (F-statistic):           5.08e-05\n",
       "Time:                        13:19:47   Log-Likelihood:                -366.22\n",
       "No. Observations:                 463   AIC:                             736.4\n",
       "Df Residuals:                     461   BIC:                             744.7\n",
       "Df Model:                           1                                         \n",
       "Covariance Type:            nonrobust                                         \n",
       "==============================================================================\n",
       "                 coef    std err          t      P>|t|      [0.025      0.975]\n",
       "------------------------------------------------------------------------------\n",
       "Intercept      3.8803      0.076     50.961      0.000       3.731       4.030\n",
       "bty_avg        0.0666      0.016      4.090      0.000       0.035       0.099\n",
       "==============================================================================\n",
       "Omnibus:                       33.007   Durbin-Watson:                   1.267\n",
       "Prob(Omnibus):                  0.000   Jarque-Bera (JB):               38.797\n",
       "Skew:                          -0.709   Prob(JB):                     3.76e-09\n",
       "Kurtosis:                       3.007   Cond. No.                         14.9\n",
       "==============================================================================\n",
       "\n",
       "Notes:\n",
       "[1] Standard Errors assume that the covariance matrix of the errors is correctly specified.\n",
       "\"\"\""
      ]
     },
     "execution_count": 46,
     "metadata": {},
     "output_type": "execute_result"
    }
   ],
   "source": [
    "model0 = smf.ols(\"score ~ bty_avg\", data=evals).fit()\n",
    "model0.summary()"
   ]
  },
  {
   "cell_type": "code",
   "execution_count": 61,
   "metadata": {
    "scrolled": false
   },
   "outputs": [
    {
     "data": {
      "text/plain": [
       "<AxesSubplot:ylabel='Count'>"
      ]
     },
     "execution_count": 61,
     "metadata": {},
     "output_type": "execute_result"
    },
    {
     "data": {
      "image/png": "[encoded data removed]",
      "text/plain": [
       "<Figure size 432x288 with 1 Axes>"
      ]
     },
     "metadata": {
      "needs_background": "light"
     },
     "output_type": "display_data"
    }
   ],
   "source": [
    "sns.histplot(model0.resid)"
   ]
  },
  {
   "cell_type": "code",
   "execution_count": 62,
   "metadata": {},
   "outputs": [
    {
     "data": {
      "text/plain": [
       "<AxesSubplot:xlabel='bty_avg'>"
      ]
     },
     "execution_count": 62,
     "metadata": {},
     "output_type": "execute_result"
    },
    {
     "data": {
      "image/png": "[encoded data removed]",
      "text/plain": [
       "<Figure size 432x288 with 1 Axes>"
      ]
     },
     "metadata": {
      "needs_background": "light"
     },
     "output_type": "display_data"
    }
   ],
   "source": [
    "sns.scatterplot(x=evals['bty_avg'],y=model0.resid)"
   ]
  },
  {
   "cell_type": "code",
   "execution_count": 47,
   "metadata": {},
   "outputs": [
    {
     "data": {
      "text/plain": [
       "Intercept    3.880338\n",
       "bty_avg      0.066637\n",
       "dtype: float64"
      ]
     },
     "execution_count": 47,
     "metadata": {},
     "output_type": "execute_result"
    }
   ],
   "source": [
    "model0.params"
   ]
  },
  {
   "cell_type": "code",
   "execution_count": 48,
   "metadata": {},
   "outputs": [
    {
     "data": {
      "text/plain": [
       "0.06663703701981423"
      ]
     },
     "execution_count": 48,
     "metadata": {},
     "output_type": "execute_result"
    }
   ],
   "source": [
    "model0.params.loc['bty_avg']"
   ]
  },
  {
   "cell_type": "code",
   "execution_count": 55,
   "metadata": {},
   "outputs": [
    {
     "data": {
      "text/html": [
       "<div>\n",
       "<style scoped>\n",
       "    .dataframe tbody tr th:only-of-type {\n",
       "        vertical-align: middle;\n",
       "    }\n",
       "\n",
       "    .dataframe tbody tr th {\n",
       "        vertical-align: top;\n",
       "    }\n",
       "\n",
       "    .dataframe thead th {\n",
       "        text-align: right;\n",
       "    }\n",
       "</style>\n",
       "<table border=\"1\" class=\"dataframe\">\n",
       "  <thead>\n",
       "    <tr style=\"text-align: right;\">\n",
       "      <th></th>\n",
       "      <th>0</th>\n",
       "      <th>1</th>\n",
       "    </tr>\n",
       "  </thead>\n",
       "  <tbody>\n",
       "    <tr>\n",
       "      <th>Intercept</th>\n",
       "      <td>3.730708</td>\n",
       "      <td>4.029968</td>\n",
       "    </tr>\n",
       "    <tr>\n",
       "      <th>bty_avg</th>\n",
       "      <td>0.034623</td>\n",
       "      <td>0.098651</td>\n",
       "    </tr>\n",
       "  </tbody>\n",
       "</table>\n",
       "</div>"
      ],
      "text/plain": [
       "                  0         1\n",
       "Intercept  3.730708  4.029968\n",
       "bty_avg    0.034623  0.098651"
      ]
     },
     "execution_count": 55,
     "metadata": {},
     "output_type": "execute_result"
    }
   ],
   "source": [
    "model0.conf_int()"
   ]
  },
  {
   "cell_type": "code",
   "execution_count": 50,
   "metadata": {},
   "outputs": [
    {
     "data": {
      "text/html": [
       "<div>\n",
       "<style scoped>\n",
       "    .dataframe tbody tr th:only-of-type {\n",
       "        vertical-align: middle;\n",
       "    }\n",
       "\n",
       "    .dataframe tbody tr th {\n",
       "        vertical-align: top;\n",
       "    }\n",
       "\n",
       "    .dataframe thead th {\n",
       "        text-align: right;\n",
       "    }\n",
       "</style>\n",
       "<table border=\"1\" class=\"dataframe\">\n",
       "  <thead>\n",
       "    <tr style=\"text-align: right;\">\n",
       "      <th></th>\n",
       "      <th>ID</th>\n",
       "      <th>prof_ID</th>\n",
       "      <th>score</th>\n",
       "      <th>age</th>\n",
       "      <th>bty_avg</th>\n",
       "      <th>gender</th>\n",
       "      <th>ethnicity</th>\n",
       "      <th>language</th>\n",
       "      <th>rank</th>\n",
       "      <th>pic_outfit</th>\n",
       "      <th>pic_color</th>\n",
       "      <th>cls_did_eval</th>\n",
       "      <th>cls_students</th>\n",
       "      <th>cls_level</th>\n",
       "    </tr>\n",
       "  </thead>\n",
       "  <tbody>\n",
       "    <tr>\n",
       "      <th>262</th>\n",
       "      <td>263</td>\n",
       "      <td>49</td>\n",
       "      <td>4.8</td>\n",
       "      <td>52</td>\n",
       "      <td>3.167</td>\n",
       "      <td>male</td>\n",
       "      <td>not minority</td>\n",
       "      <td>english</td>\n",
       "      <td>tenured</td>\n",
       "      <td>not formal</td>\n",
       "      <td>color</td>\n",
       "      <td>27</td>\n",
       "      <td>30</td>\n",
       "      <td>upper</td>\n",
       "    </tr>\n",
       "    <tr>\n",
       "      <th>45</th>\n",
       "      <td>46</td>\n",
       "      <td>9</td>\n",
       "      <td>4.7</td>\n",
       "      <td>33</td>\n",
       "      <td>4.667</td>\n",
       "      <td>female</td>\n",
       "      <td>not minority</td>\n",
       "      <td>english</td>\n",
       "      <td>tenure track</td>\n",
       "      <td>not formal</td>\n",
       "      <td>color</td>\n",
       "      <td>29</td>\n",
       "      <td>49</td>\n",
       "      <td>upper</td>\n",
       "    </tr>\n",
       "    <tr>\n",
       "      <th>102</th>\n",
       "      <td>103</td>\n",
       "      <td>19</td>\n",
       "      <td>5.0</td>\n",
       "      <td>46</td>\n",
       "      <td>4.333</td>\n",
       "      <td>female</td>\n",
       "      <td>not minority</td>\n",
       "      <td>english</td>\n",
       "      <td>tenured</td>\n",
       "      <td>not formal</td>\n",
       "      <td>black&amp;white</td>\n",
       "      <td>14</td>\n",
       "      <td>15</td>\n",
       "      <td>lower</td>\n",
       "    </tr>\n",
       "    <tr>\n",
       "      <th>98</th>\n",
       "      <td>99</td>\n",
       "      <td>18</td>\n",
       "      <td>4.3</td>\n",
       "      <td>48</td>\n",
       "      <td>4.333</td>\n",
       "      <td>male</td>\n",
       "      <td>not minority</td>\n",
       "      <td>english</td>\n",
       "      <td>teaching</td>\n",
       "      <td>not formal</td>\n",
       "      <td>color</td>\n",
       "      <td>18</td>\n",
       "      <td>27</td>\n",
       "      <td>upper</td>\n",
       "    </tr>\n",
       "    <tr>\n",
       "      <th>151</th>\n",
       "      <td>152</td>\n",
       "      <td>27</td>\n",
       "      <td>3.6</td>\n",
       "      <td>52</td>\n",
       "      <td>4.833</td>\n",
       "      <td>male</td>\n",
       "      <td>minority</td>\n",
       "      <td>non-english</td>\n",
       "      <td>tenured</td>\n",
       "      <td>formal</td>\n",
       "      <td>color</td>\n",
       "      <td>12</td>\n",
       "      <td>15</td>\n",
       "      <td>upper</td>\n",
       "    </tr>\n",
       "  </tbody>\n",
       "</table>\n",
       "</div>"
      ],
      "text/plain": [
       "      ID  prof_ID  score  age  bty_avg  gender     ethnicity     language  \\\n",
       "262  263       49    4.8   52    3.167    male  not minority      english   \n",
       "45    46        9    4.7   33    4.667  female  not minority      english   \n",
       "102  103       19    5.0   46    4.333  female  not minority      english   \n",
       "98    99       18    4.3   48    4.333    male  not minority      english   \n",
       "151  152       27    3.6   52    4.833    male      minority  non-english   \n",
       "\n",
       "             rank  pic_outfit    pic_color  cls_did_eval  cls_students  \\\n",
       "262       tenured  not formal        color            27            30   \n",
       "45   tenure track  not formal        color            29            49   \n",
       "102       tenured  not formal  black&white            14            15   \n",
       "98       teaching  not formal        color            18            27   \n",
       "151       tenured      formal        color            12            15   \n",
       "\n",
       "    cls_level  \n",
       "262     upper  \n",
       "45      upper  \n",
       "102     lower  \n",
       "98      upper  \n",
       "151     upper  "
      ]
     },
     "execution_count": 50,
     "metadata": {},
     "output_type": "execute_result"
    }
   ],
   "source": [
    "# Bootstrapping the slope\n",
    "evals_sample = evals.sample(n=len(evals),replace=True)\n",
    "evals_sample.head()"
   ]
  },
  {
   "cell_type": "code",
   "execution_count": 42,
   "metadata": {},
   "outputs": [
    {
     "name": "stdout",
     "output_type": "stream",
     "text": [
      "0.06665916983697312 0.017194621143857183\n"
     ]
    }
   ],
   "source": [
    "nreps = 1000\n",
    "slopes = []\n",
    "for i in range(nreps):\n",
    "    evals_sample = evals.sample(n=len(evals),replace=True)\n",
    "    model = smf.ols(\"score ~ bty_avg\", data=evals_sample).fit()\n",
    "    slope = model.params.loc['bty_avg']\n",
    "    slopes.append(slope)\n",
    "mean = np.mean(slopes)\n",
    "sd = np.std(slopes)\n",
    "print(mean,sd)"
   ]
  },
  {
   "cell_type": "code",
   "execution_count": 59,
   "metadata": {},
   "outputs": [],
   "source": [
    "lower_percentile = np.quantile(slopes,0.025)\n",
    "upper_percentile = np.quantile(slopes,0.975)"
   ]
  },
  {
   "cell_type": "code",
   "execution_count": 60,
   "metadata": {},
   "outputs": [
    {
     "data": {
      "text/plain": [
       "<matplotlib.lines.Line2D at 0x7f7ef2afc438>"
      ]
     },
     "execution_count": 60,
     "metadata": {},
     "output_type": "execute_result"
    },
    {
     "data": {
      "image/png": "[encoded data removed]",
      "text/plain": [
       "<Figure size 432x288 with 1 Axes>"
      ]
     },
     "metadata": {
      "needs_background": "light"
     },
     "output_type": "display_data"
    }
   ],
   "source": [
    "ax = sns.histplot(slopes)\n",
    "ax.axvline(mean,color='magenta')\n",
    "ax.axvline(mean-2*sd,color='green')\n",
    "ax.axvline(mean+2*sd,color='green')\n",
    "ax.axvline(model0.conf_int().loc['bty_avg'].iloc[0],color='pink')\n",
    "ax.axvline(model0.conf_int().loc['bty_avg'].iloc[1],color='pink')\n",
    "ax.axvline(np.quantile(slopes,0.025),color='blue')\n",
    "ax.axvline(np.quantile(slopes,0.975),color='blue')"
   ]
  },
  {
   "cell_type": "markdown",
   "metadata": {
    "slideshow": {
     "slide_type": "subslide"
    }
   },
   "source": [
    "Let's look at Anscombe's Quartet:"
   ]
  },
  {
   "cell_type": "code",
   "execution_count": 94,
   "metadata": {
    "slideshow": {
     "slide_type": "subslide"
    }
   },
   "outputs": [
    {
     "data": {
      "text/plain": [
       "<seaborn.axisgrid.FacetGrid at 0x7fb9f1b56fd0>"
      ]
     },
     "execution_count": 94,
     "metadata": {},
     "output_type": "execute_result"
    },
    {
     "data": {
      "image/png": "[encoded data removed]",
      "text/plain": [
       "<Figure size 576x576 with 4 Axes>"
      ]
     },
     "metadata": {
      "needs_background": "light"
     },
     "output_type": "display_data"
    }
   ],
   "source": [
    "anscombe = sns.load_dataset(\"anscombe\")\n",
    "\n",
    "# Show the results of a linear regression within each dataset\n",
    "sns.lmplot(x=\"x\", y=\"y\", col=\"dataset\", hue=\"dataset\", data=anscombe,\n",
    "           col_wrap=2, ci=None, palette=\"muted\", height=4)"
   ]
  },
  {
   "cell_type": "code",
   "execution_count": 97,
   "metadata": {
    "slideshow": {
     "slide_type": "subslide"
    }
   },
   "outputs": [
    {
     "data": {
      "text/html": [
       "<div>\n",
       "<style scoped>\n",
       "    .dataframe tbody tr th:only-of-type {\n",
       "        vertical-align: middle;\n",
       "    }\n",
       "\n",
       "    .dataframe tbody tr th {\n",
       "        vertical-align: top;\n",
       "    }\n",
       "\n",
       "    .dataframe thead th {\n",
       "        text-align: right;\n",
       "    }\n",
       "</style>\n",
       "<table border=\"1\" class=\"dataframe\">\n",
       "  <thead>\n",
       "    <tr style=\"text-align: right;\">\n",
       "      <th></th>\n",
       "      <th>dataset</th>\n",
       "      <th>x</th>\n",
       "      <th>y</th>\n",
       "    </tr>\n",
       "  </thead>\n",
       "  <tbody>\n",
       "    <tr>\n",
       "      <th>7</th>\n",
       "      <td>I</td>\n",
       "      <td>4.0</td>\n",
       "      <td>4.26</td>\n",
       "    </tr>\n",
       "    <tr>\n",
       "      <th>29</th>\n",
       "      <td>III</td>\n",
       "      <td>4.0</td>\n",
       "      <td>5.39</td>\n",
       "    </tr>\n",
       "    <tr>\n",
       "      <th>5</th>\n",
       "      <td>I</td>\n",
       "      <td>14.0</td>\n",
       "      <td>9.96</td>\n",
       "    </tr>\n",
       "    <tr>\n",
       "      <th>28</th>\n",
       "      <td>III</td>\n",
       "      <td>6.0</td>\n",
       "      <td>6.08</td>\n",
       "    </tr>\n",
       "    <tr>\n",
       "      <th>37</th>\n",
       "      <td>IV</td>\n",
       "      <td>8.0</td>\n",
       "      <td>8.47</td>\n",
       "    </tr>\n",
       "    <tr>\n",
       "      <th>15</th>\n",
       "      <td>II</td>\n",
       "      <td>11.0</td>\n",
       "      <td>9.26</td>\n",
       "    </tr>\n",
       "    <tr>\n",
       "      <th>31</th>\n",
       "      <td>III</td>\n",
       "      <td>7.0</td>\n",
       "      <td>6.42</td>\n",
       "    </tr>\n",
       "    <tr>\n",
       "      <th>41</th>\n",
       "      <td>IV</td>\n",
       "      <td>8.0</td>\n",
       "      <td>5.56</td>\n",
       "    </tr>\n",
       "    <tr>\n",
       "      <th>36</th>\n",
       "      <td>IV</td>\n",
       "      <td>8.0</td>\n",
       "      <td>8.84</td>\n",
       "    </tr>\n",
       "    <tr>\n",
       "      <th>39</th>\n",
       "      <td>IV</td>\n",
       "      <td>8.0</td>\n",
       "      <td>5.25</td>\n",
       "    </tr>\n",
       "  </tbody>\n",
       "</table>\n",
       "</div>"
      ],
      "text/plain": [
       "   dataset     x     y\n",
       "7        I   4.0  4.26\n",
       "29     III   4.0  5.39\n",
       "5        I  14.0  9.96\n",
       "28     III   6.0  6.08\n",
       "37      IV   8.0  8.47\n",
       "15      II  11.0  9.26\n",
       "31     III   7.0  6.42\n",
       "41      IV   8.0  5.56\n",
       "36      IV   8.0  8.84\n",
       "39      IV   8.0  5.25"
      ]
     },
     "execution_count": 97,
     "metadata": {},
     "output_type": "execute_result"
    }
   ],
   "source": [
    "anscombe.sample(10)\n"
   ]
  },
  {
   "cell_type": "code",
   "execution_count": 33,
   "metadata": {
    "slideshow": {
     "slide_type": "subslide"
    }
   },
   "outputs": [],
   "source": [
    "anscombe_1 = anscombe[anscombe.dataset == 'I']\n",
    "anscombe_2 = anscombe[anscombe.dataset == 'II']\n",
    "anscombe_3 = anscombe[anscombe.dataset == 'III']\n",
    "anscombe_4 = anscombe[anscombe.dataset == 'IV']"
   ]
  },
  {
   "cell_type": "code",
   "execution_count": 98,
   "metadata": {
    "slideshow": {
     "slide_type": "subslide"
    }
   },
   "outputs": [
    {
     "name": "stdout",
     "output_type": "stream",
     "text": [
      "The rsquared value is 0.6665424595087751\n"
     ]
    },
    {
     "data": {
      "image/png": "[encoded data removed]",
      "text/plain": [
       "<Figure size 864x576 with 1 Axes>"
      ]
     },
     "metadata": {
      "needs_background": "light"
     },
     "output_type": "display_data"
    }
   ],
   "source": [
    "anscombe_1_lm = smf.ols('y ~ x',anscombe_1).fit()\n",
    "print(\"The rsquared value is \" + str(anscombe_1_lm.rsquared))\n",
    "fig, ax = plt.subplots(figsize=(12,8))\n",
    "fig = sm.graphics.influence_plot(anscombe_1_lm, ax= ax, criterion=\"cooks\",alpha=0.05)\n",
    "                                     \n",
    "                                     "
   ]
  },
  {
   "cell_type": "code",
   "execution_count": 99,
   "metadata": {
    "slideshow": {
     "slide_type": "subslide"
    }
   },
   "outputs": [
    {
     "name": "stdout",
     "output_type": "stream",
     "text": [
      "The rsquared value is 0.6662420337274844\n"
     ]
    },
    {
     "data": {
      "image/png": "[encoded data removed]",
      "text/plain": [
       "<Figure size 864x576 with 1 Axes>"
      ]
     },
     "metadata": {
      "needs_background": "light"
     },
     "output_type": "display_data"
    }
   ],
   "source": [
    "anscombe_2_lm = smf.ols('y ~ x',anscombe_2).fit()\n",
    "print(\"The rsquared value is \" + str(anscombe_2_lm.rsquared))\n",
    "fig, ax = plt.subplots(figsize=(12,8))\n",
    "fig = sm.graphics.influence_plot(anscombe_2_lm, ax= ax, criterion=\"cooks\",alpha=.05)\n",
    "                                     \n",
    "                                     "
   ]
  },
  {
   "cell_type": "code",
   "execution_count": 100,
   "metadata": {
    "slideshow": {
     "slide_type": "subslide"
    }
   },
   "outputs": [
    {
     "name": "stdout",
     "output_type": "stream",
     "text": [
      "The rsquared value is 0.6663240410665592\n"
     ]
    },
    {
     "data": {
      "image/png": "[encoded data removed]",
      "text/plain": [
       "<Figure size 864x576 with 1 Axes>"
      ]
     },
     "metadata": {
      "needs_background": "light"
     },
     "output_type": "display_data"
    }
   ],
   "source": [
    "anscombe_3_lm = smf.ols('y ~ x',anscombe_3).fit()\n",
    "print(\"The rsquared value is \" + str(anscombe_3_lm.rsquared))\n",
    "fig, ax = plt.subplots(figsize=(12,8))\n",
    "fig = sm.graphics.influence_plot(anscombe_3_lm, ax= ax, criterion=\"cooks\",alpha=0.05)\n",
    "                                     \n",
    "                                     "
   ]
  },
  {
   "cell_type": "code",
   "execution_count": 101,
   "metadata": {
    "slideshow": {
     "slide_type": "subslide"
    }
   },
   "outputs": [
    {
     "data": {
      "text/html": [
       "<div>\n",
       "<style scoped>\n",
       "    .dataframe tbody tr th:only-of-type {\n",
       "        vertical-align: middle;\n",
       "    }\n",
       "\n",
       "    .dataframe tbody tr th {\n",
       "        vertical-align: top;\n",
       "    }\n",
       "\n",
       "    .dataframe thead th {\n",
       "        text-align: right;\n",
       "    }\n",
       "</style>\n",
       "<table border=\"1\" class=\"dataframe\">\n",
       "  <thead>\n",
       "    <tr style=\"text-align: right;\">\n",
       "      <th></th>\n",
       "      <th>dataset</th>\n",
       "      <th>x</th>\n",
       "      <th>y</th>\n",
       "    </tr>\n",
       "  </thead>\n",
       "  <tbody>\n",
       "    <tr>\n",
       "      <th>33</th>\n",
       "      <td>IV</td>\n",
       "      <td>8.0</td>\n",
       "      <td>6.58</td>\n",
       "    </tr>\n",
       "    <tr>\n",
       "      <th>34</th>\n",
       "      <td>IV</td>\n",
       "      <td>8.0</td>\n",
       "      <td>5.76</td>\n",
       "    </tr>\n",
       "    <tr>\n",
       "      <th>35</th>\n",
       "      <td>IV</td>\n",
       "      <td>8.0</td>\n",
       "      <td>7.71</td>\n",
       "    </tr>\n",
       "    <tr>\n",
       "      <th>36</th>\n",
       "      <td>IV</td>\n",
       "      <td>8.0</td>\n",
       "      <td>8.84</td>\n",
       "    </tr>\n",
       "    <tr>\n",
       "      <th>37</th>\n",
       "      <td>IV</td>\n",
       "      <td>8.0</td>\n",
       "      <td>8.47</td>\n",
       "    </tr>\n",
       "    <tr>\n",
       "      <th>38</th>\n",
       "      <td>IV</td>\n",
       "      <td>8.0</td>\n",
       "      <td>7.04</td>\n",
       "    </tr>\n",
       "    <tr>\n",
       "      <th>39</th>\n",
       "      <td>IV</td>\n",
       "      <td>8.0</td>\n",
       "      <td>5.25</td>\n",
       "    </tr>\n",
       "    <tr>\n",
       "      <th>40</th>\n",
       "      <td>IV</td>\n",
       "      <td>19.0</td>\n",
       "      <td>12.50</td>\n",
       "    </tr>\n",
       "    <tr>\n",
       "      <th>41</th>\n",
       "      <td>IV</td>\n",
       "      <td>8.0</td>\n",
       "      <td>5.56</td>\n",
       "    </tr>\n",
       "    <tr>\n",
       "      <th>42</th>\n",
       "      <td>IV</td>\n",
       "      <td>8.0</td>\n",
       "      <td>7.91</td>\n",
       "    </tr>\n",
       "  </tbody>\n",
       "</table>\n",
       "</div>"
      ],
      "text/plain": [
       "   dataset     x      y\n",
       "33      IV   8.0   6.58\n",
       "34      IV   8.0   5.76\n",
       "35      IV   8.0   7.71\n",
       "36      IV   8.0   8.84\n",
       "37      IV   8.0   8.47\n",
       "38      IV   8.0   7.04\n",
       "39      IV   8.0   5.25\n",
       "40      IV  19.0  12.50\n",
       "41      IV   8.0   5.56\n",
       "42      IV   8.0   7.91"
      ]
     },
     "execution_count": 101,
     "metadata": {},
     "output_type": "execute_result"
    }
   ],
   "source": [
    "anscombe_4.head(10)"
   ]
  },
  {
   "cell_type": "code",
   "execution_count": 102,
   "metadata": {
    "slideshow": {
     "slide_type": "subslide"
    }
   },
   "outputs": [
    {
     "name": "stdout",
     "output_type": "stream",
     "text": [
      "The rsquared value is 0.6667072568984653\n"
     ]
    },
    {
     "data": {
      "image/png": "[encoded data removed]",
      "text/plain": [
       "<Figure size 864x576 with 1 Axes>"
      ]
     },
     "metadata": {
      "needs_background": "light"
     },
     "output_type": "display_data"
    }
   ],
   "source": [
    "anscombe_4_lm = smf.ols('y ~ x',anscombe_4).fit()\n",
    "print(\"The rsquared value is \" + str(anscombe_4_lm.rsquared))\n",
    "fig, ax = plt.subplots(figsize=(12,8))\n",
    "fig = sm.graphics.influence_plot(anscombe_4_lm, ax= ax, criterion=\"cooks\",alpha=0.05)\n",
    "                                     \n",
    "                                     "
   ]
  },
  {
   "cell_type": "code",
   "execution_count": 103,
   "metadata": {
    "slideshow": {
     "slide_type": "subslide"
    }
   },
   "outputs": [
    {
     "data": {
      "text/html": [
       "<div>\n",
       "<style scoped>\n",
       "    .dataframe tbody tr th:only-of-type {\n",
       "        vertical-align: middle;\n",
       "    }\n",
       "\n",
       "    .dataframe tbody tr th {\n",
       "        vertical-align: top;\n",
       "    }\n",
       "\n",
       "    .dataframe thead th {\n",
       "        text-align: right;\n",
       "    }\n",
       "</style>\n",
       "<table border=\"1\" class=\"dataframe\">\n",
       "  <thead>\n",
       "    <tr style=\"text-align: right;\">\n",
       "      <th></th>\n",
       "      <th>dfb_Intercept</th>\n",
       "      <th>dfb_x</th>\n",
       "      <th>cooks_d</th>\n",
       "      <th>standard_resid</th>\n",
       "      <th>hat_diag</th>\n",
       "      <th>dffits_internal</th>\n",
       "      <th>student_resid</th>\n",
       "      <th>dffits</th>\n",
       "    </tr>\n",
       "  </thead>\n",
       "  <tbody>\n",
       "    <tr>\n",
       "      <th>22</th>\n",
       "      <td>-0.004626</td>\n",
       "      <td>-4.412673e-02</td>\n",
       "      <td>0.011765</td>\n",
       "      <td>-0.460177</td>\n",
       "      <td>0.100000</td>\n",
       "      <td>-0.153392</td>\n",
       "      <td>-0.439055</td>\n",
       "      <td>-0.146352</td>\n",
       "    </tr>\n",
       "    <tr>\n",
       "      <th>23</th>\n",
       "      <td>-0.037133</td>\n",
       "      <td>1.864368e-02</td>\n",
       "      <td>0.002141</td>\n",
       "      <td>-0.196333</td>\n",
       "      <td>0.100000</td>\n",
       "      <td>-0.065444</td>\n",
       "      <td>-0.185502</td>\n",
       "      <td>-0.061834</td>\n",
       "    </tr>\n",
       "    <tr>\n",
       "      <th>24</th>\n",
       "      <td>-357.909597</td>\n",
       "      <td>5.252677e+02</td>\n",
       "      <td>1.392849</td>\n",
       "      <td>2.999992</td>\n",
       "      <td>0.236364</td>\n",
       "      <td>1.669041</td>\n",
       "      <td>1203.539464</td>\n",
       "      <td>669.587544</td>\n",
       "    </tr>\n",
       "    <tr>\n",
       "      <th>25</th>\n",
       "      <td>-0.032900</td>\n",
       "      <td>-1.340142e-15</td>\n",
       "      <td>0.005473</td>\n",
       "      <td>-0.330851</td>\n",
       "      <td>0.090909</td>\n",
       "      <td>-0.104624</td>\n",
       "      <td>-0.313844</td>\n",
       "      <td>-0.099246</td>\n",
       "    </tr>\n",
       "    <tr>\n",
       "      <th>26</th>\n",
       "      <td>0.049155</td>\n",
       "      <td>-1.172274e-01</td>\n",
       "      <td>0.025984</td>\n",
       "      <td>-0.596951</td>\n",
       "      <td>0.127273</td>\n",
       "      <td>-0.227964</td>\n",
       "      <td>-0.574295</td>\n",
       "      <td>-0.219312</td>\n",
       "    </tr>\n",
       "    <tr>\n",
       "      <th>27</th>\n",
       "      <td>0.489742</td>\n",
       "      <td>-6.674064e-01</td>\n",
       "      <td>0.300571</td>\n",
       "      <td>-1.134972</td>\n",
       "      <td>0.318182</td>\n",
       "      <td>-0.775333</td>\n",
       "      <td>-1.155982</td>\n",
       "      <td>-0.789686</td>\n",
       "    </tr>\n",
       "    <tr>\n",
       "      <th>28</th>\n",
       "      <td>0.027001</td>\n",
       "      <td>-2.088417e-02</td>\n",
       "      <td>0.000518</td>\n",
       "      <td>0.070416</td>\n",
       "      <td>0.172727</td>\n",
       "      <td>0.032176</td>\n",
       "      <td>0.066407</td>\n",
       "      <td>0.030344</td>\n",
       "    </tr>\n",
       "    <tr>\n",
       "      <th>29</th>\n",
       "      <td>0.240903</td>\n",
       "      <td>-2.089150e-01</td>\n",
       "      <td>0.033817</td>\n",
       "      <td>0.380699</td>\n",
       "      <td>0.318182</td>\n",
       "      <td>0.260067</td>\n",
       "      <td>0.361851</td>\n",
       "      <td>0.247192</td>\n",
       "    </tr>\n",
       "    <tr>\n",
       "      <th>30</th>\n",
       "      <td>0.137434</td>\n",
       "      <td>-2.313597e-01</td>\n",
       "      <td>0.059536</td>\n",
       "      <td>-0.755177</td>\n",
       "      <td>0.172727</td>\n",
       "      <td>-0.345068</td>\n",
       "      <td>-0.735677</td>\n",
       "      <td>-0.336158</td>\n",
       "    </tr>\n",
       "    <tr>\n",
       "      <th>31</th>\n",
       "      <td>-0.019702</td>\n",
       "      <td>1.342485e-02</td>\n",
       "      <td>0.000355</td>\n",
       "      <td>-0.069739</td>\n",
       "      <td>0.127273</td>\n",
       "      <td>-0.026632</td>\n",
       "      <td>-0.065768</td>\n",
       "      <td>-0.025116</td>\n",
       "    </tr>\n",
       "    <tr>\n",
       "      <th>32</th>\n",
       "      <td>0.105366</td>\n",
       "      <td>-8.740210e-02</td>\n",
       "      <td>0.006948</td>\n",
       "      <td>0.211881</td>\n",
       "      <td>0.236364</td>\n",
       "      <td>0.117880</td>\n",
       "      <td>0.200263</td>\n",
       "      <td>0.111416</td>\n",
       "    </tr>\n",
       "  </tbody>\n",
       "</table>\n",
       "</div>"
      ],
      "text/plain": [
       "    dfb_Intercept         dfb_x   cooks_d  standard_resid  hat_diag  \\\n",
       "22      -0.004626 -4.412673e-02  0.011765       -0.460177  0.100000   \n",
       "23      -0.037133  1.864368e-02  0.002141       -0.196333  0.100000   \n",
       "24    -357.909597  5.252677e+02  1.392849        2.999992  0.236364   \n",
       "25      -0.032900 -1.340142e-15  0.005473       -0.330851  0.090909   \n",
       "26       0.049155 -1.172274e-01  0.025984       -0.596951  0.127273   \n",
       "27       0.489742 -6.674064e-01  0.300571       -1.134972  0.318182   \n",
       "28       0.027001 -2.088417e-02  0.000518        0.070416  0.172727   \n",
       "29       0.240903 -2.089150e-01  0.033817        0.380699  0.318182   \n",
       "30       0.137434 -2.313597e-01  0.059536       -0.755177  0.172727   \n",
       "31      -0.019702  1.342485e-02  0.000355       -0.069739  0.127273   \n",
       "32       0.105366 -8.740210e-02  0.006948        0.211881  0.236364   \n",
       "\n",
       "    dffits_internal  student_resid      dffits  \n",
       "22        -0.153392      -0.439055   -0.146352  \n",
       "23        -0.065444      -0.185502   -0.061834  \n",
       "24         1.669041    1203.539464  669.587544  \n",
       "25        -0.104624      -0.313844   -0.099246  \n",
       "26        -0.227964      -0.574295   -0.219312  \n",
       "27        -0.775333      -1.155982   -0.789686  \n",
       "28         0.032176       0.066407    0.030344  \n",
       "29         0.260067       0.361851    0.247192  \n",
       "30        -0.345068      -0.735677   -0.336158  \n",
       "31        -0.026632      -0.065768   -0.025116  \n",
       "32         0.117880       0.200263    0.111416  "
      ]
     },
     "execution_count": 103,
     "metadata": {},
     "output_type": "execute_result"
    }
   ],
   "source": [
    "infl = anscombe_3_lm.get_influence()\n",
    "sm_fr = infl.summary_frame()\n",
    "sm_fr"
   ]
  },
  {
   "cell_type": "markdown",
   "metadata": {
    "slideshow": {
     "slide_type": "subslide"
    }
   },
   "source": [
    "We can also extract the Cook's Distance values and their associated p-values from the influence object:"
   ]
  },
  {
   "cell_type": "code",
   "execution_count": 104,
   "metadata": {},
   "outputs": [],
   "source": [
    "c,p = infl.cooks_distance"
   ]
  },
  {
   "cell_type": "markdown",
   "metadata": {
    "slideshow": {
     "slide_type": "subslide"
    }
   },
   "source": [
    "and create a DataFrame with the results"
   ]
  },
  {
   "cell_type": "code",
   "execution_count": 105,
   "metadata": {
    "slideshow": {
     "slide_type": "subslide"
    }
   },
   "outputs": [
    {
     "data": {
      "text/html": [
       "<div>\n",
       "<style scoped>\n",
       "    .dataframe tbody tr th:only-of-type {\n",
       "        vertical-align: middle;\n",
       "    }\n",
       "\n",
       "    .dataframe tbody tr th {\n",
       "        vertical-align: top;\n",
       "    }\n",
       "\n",
       "    .dataframe thead th {\n",
       "        text-align: right;\n",
       "    }\n",
       "</style>\n",
       "<table border=\"1\" class=\"dataframe\">\n",
       "  <thead>\n",
       "    <tr style=\"text-align: right;\">\n",
       "      <th></th>\n",
       "      <th>cooks_distance</th>\n",
       "      <th>pvalue</th>\n",
       "    </tr>\n",
       "  </thead>\n",
       "  <tbody>\n",
       "    <tr>\n",
       "      <th>0</th>\n",
       "      <td>0.011765</td>\n",
       "      <td>0.988319</td>\n",
       "    </tr>\n",
       "    <tr>\n",
       "      <th>1</th>\n",
       "      <td>0.002141</td>\n",
       "      <td>0.997861</td>\n",
       "    </tr>\n",
       "    <tr>\n",
       "      <th>2</th>\n",
       "      <td>1.392849</td>\n",
       "      <td>0.297161</td>\n",
       "    </tr>\n",
       "    <tr>\n",
       "      <th>3</th>\n",
       "      <td>0.005473</td>\n",
       "      <td>0.994545</td>\n",
       "    </tr>\n",
       "    <tr>\n",
       "      <th>4</th>\n",
       "      <td>0.025984</td>\n",
       "      <td>0.974424</td>\n",
       "    </tr>\n",
       "    <tr>\n",
       "      <th>5</th>\n",
       "      <td>0.300571</td>\n",
       "      <td>0.747547</td>\n",
       "    </tr>\n",
       "    <tr>\n",
       "      <th>6</th>\n",
       "      <td>0.000518</td>\n",
       "      <td>0.999483</td>\n",
       "    </tr>\n",
       "    <tr>\n",
       "      <th>7</th>\n",
       "      <td>0.033817</td>\n",
       "      <td>0.966870</td>\n",
       "    </tr>\n",
       "    <tr>\n",
       "      <th>8</th>\n",
       "      <td>0.059536</td>\n",
       "      <td>0.942570</td>\n",
       "    </tr>\n",
       "    <tr>\n",
       "      <th>9</th>\n",
       "      <td>0.000355</td>\n",
       "      <td>0.999645</td>\n",
       "    </tr>\n",
       "    <tr>\n",
       "      <th>10</th>\n",
       "      <td>0.006948</td>\n",
       "      <td>0.993082</td>\n",
       "    </tr>\n",
       "  </tbody>\n",
       "</table>\n",
       "</div>"
      ],
      "text/plain": [
       "    cooks_distance    pvalue\n",
       "0         0.011765  0.988319\n",
       "1         0.002141  0.997861\n",
       "2         1.392849  0.297161\n",
       "3         0.005473  0.994545\n",
       "4         0.025984  0.974424\n",
       "5         0.300571  0.747547\n",
       "6         0.000518  0.999483\n",
       "7         0.033817  0.966870\n",
       "8         0.059536  0.942570\n",
       "9         0.000355  0.999645\n",
       "10        0.006948  0.993082"
      ]
     },
     "execution_count": 105,
     "metadata": {},
     "output_type": "execute_result"
    }
   ],
   "source": [
    "df = pd.DataFrame.from_dict({'cooks_distance':c,'pvalue':p})\n",
    "df"
   ]
  },
  {
   "cell_type": "markdown",
   "metadata": {},
   "source": [
    "Note that we could sort the above in various, helpful ways."
   ]
  },
  {
   "cell_type": "markdown",
   "metadata": {
    "slideshow": {
     "slide_type": "skip"
    }
   },
   "source": [
    "### Q4: Create an influence plot for the regression of \"total sulfur dioxide\" vs. \"free sulfur dioxide\".  \n",
    "\n",
    "Visually identify outliers.\n",
    "\n"
   ]
  },
  {
   "cell_type": "code",
   "execution_count": 43,
   "metadata": {
    "slideshow": {
     "slide_type": "skip"
    }
   },
   "outputs": [
    {
     "data": {
      "image/png": "[encoded data removed]",
      "text/plain": [
       "<Figure size 864x576 with 1 Axes>"
      ]
     },
     "metadata": {
      "needs_background": "light"
     },
     "output_type": "display_data"
    }
   ],
   "source": [
    "fig, ax = plt.subplots(figsize=(12,8))\n",
    "fig = sm.graphics.influence_plot(model2, ax=ax, criterion=\"Cooks\",alpha=0.0000005)"
   ]
  },
  {
   "cell_type": "markdown",
   "metadata": {
    "slideshow": {
     "slide_type": "skip"
    }
   },
   "source": [
    "### Q5: How many influence points are there, according to statistically significant Cook's distances?\n"
   ]
  },
  {
   "cell_type": "code",
   "execution_count": 44,
   "metadata": {
    "slideshow": {
     "slide_type": "skip"
    }
   },
   "outputs": [
    {
     "data": {
      "text/html": [
       "<div>\n",
       "<style scoped>\n",
       "    .dataframe tbody tr th:only-of-type {\n",
       "        vertical-align: middle;\n",
       "    }\n",
       "\n",
       "    .dataframe tbody tr th {\n",
       "        vertical-align: top;\n",
       "    }\n",
       "\n",
       "    .dataframe thead th {\n",
       "        text-align: right;\n",
       "    }\n",
       "</style>\n",
       "<table border=\"1\" class=\"dataframe\">\n",
       "  <thead>\n",
       "    <tr style=\"text-align: right;\">\n",
       "      <th></th>\n",
       "      <th>dfb_Intercept</th>\n",
       "      <th>dfb_Q('free sulfur dioxide')</th>\n",
       "      <th>cooks_d</th>\n",
       "      <th>standard_resid</th>\n",
       "      <th>hat_diag</th>\n",
       "      <th>dffits_internal</th>\n",
       "      <th>student_resid</th>\n",
       "      <th>dffits</th>\n",
       "    </tr>\n",
       "  </thead>\n",
       "  <tbody>\n",
       "    <tr>\n",
       "      <th>0</th>\n",
       "      <td>-0.002141</td>\n",
       "      <td>0.001063</td>\n",
       "      <td>0.000003</td>\n",
       "      <td>-0.091146</td>\n",
       "      <td>0.000761</td>\n",
       "      <td>-0.002516</td>\n",
       "      <td>-0.091118</td>\n",
       "      <td>-0.002515</td>\n",
       "    </tr>\n",
       "    <tr>\n",
       "      <th>1</th>\n",
       "      <td>-0.000250</td>\n",
       "      <td>0.001224</td>\n",
       "      <td>0.000002</td>\n",
       "      <td>0.056052</td>\n",
       "      <td>0.001102</td>\n",
       "      <td>0.001861</td>\n",
       "      <td>0.056035</td>\n",
       "      <td>0.001861</td>\n",
       "    </tr>\n",
       "    <tr>\n",
       "      <th>2</th>\n",
       "      <td>0.005932</td>\n",
       "      <td>-0.000801</td>\n",
       "      <td>0.000046</td>\n",
       "      <td>0.382588</td>\n",
       "      <td>0.000630</td>\n",
       "      <td>0.009604</td>\n",
       "      <td>0.382485</td>\n",
       "      <td>0.009602</td>\n",
       "    </tr>\n",
       "    <tr>\n",
       "      <th>3</th>\n",
       "      <td>0.005250</td>\n",
       "      <td>0.001227</td>\n",
       "      <td>0.000066</td>\n",
       "      <td>0.456115</td>\n",
       "      <td>0.000633</td>\n",
       "      <td>0.011476</td>\n",
       "      <td>0.456002</td>\n",
       "      <td>0.011473</td>\n",
       "    </tr>\n",
       "    <tr>\n",
       "      <th>4</th>\n",
       "      <td>-0.002141</td>\n",
       "      <td>0.001063</td>\n",
       "      <td>0.000003</td>\n",
       "      <td>-0.091146</td>\n",
       "      <td>0.000761</td>\n",
       "      <td>-0.002516</td>\n",
       "      <td>-0.091118</td>\n",
       "      <td>-0.002515</td>\n",
       "    </tr>\n",
       "    <tr>\n",
       "      <th>...</th>\n",
       "      <td>...</td>\n",
       "      <td>...</td>\n",
       "      <td>...</td>\n",
       "      <td>...</td>\n",
       "      <td>...</td>\n",
       "      <td>...</td>\n",
       "      <td>...</td>\n",
       "      <td>...</td>\n",
       "    </tr>\n",
       "    <tr>\n",
       "      <th>1594</th>\n",
       "      <td>0.027424</td>\n",
       "      <td>-0.057327</td>\n",
       "      <td>0.002332</td>\n",
       "      <td>-1.484427</td>\n",
       "      <td>0.002113</td>\n",
       "      <td>-0.068300</td>\n",
       "      <td>-1.484987</td>\n",
       "      <td>-0.068326</td>\n",
       "    </tr>\n",
       "    <tr>\n",
       "      <th>1595</th>\n",
       "      <td>0.058533</td>\n",
       "      <td>-0.099824</td>\n",
       "      <td>0.005993</td>\n",
       "      <td>-1.800414</td>\n",
       "      <td>0.003684</td>\n",
       "      <td>-0.109479</td>\n",
       "      <td>-1.801680</td>\n",
       "      <td>-0.109556</td>\n",
       "    </tr>\n",
       "    <tr>\n",
       "      <th>1596</th>\n",
       "      <td>0.017335</td>\n",
       "      <td>-0.043682</td>\n",
       "      <td>0.001559</td>\n",
       "      <td>-1.390127</td>\n",
       "      <td>0.001611</td>\n",
       "      <td>-0.055835</td>\n",
       "      <td>-1.390533</td>\n",
       "      <td>-0.055851</td>\n",
       "    </tr>\n",
       "    <tr>\n",
       "      <th>1597</th>\n",
       "      <td>0.027424</td>\n",
       "      <td>-0.057327</td>\n",
       "      <td>0.002332</td>\n",
       "      <td>-1.484427</td>\n",
       "      <td>0.002113</td>\n",
       "      <td>-0.068300</td>\n",
       "      <td>-1.484987</td>\n",
       "      <td>-0.068326</td>\n",
       "    </tr>\n",
       "    <tr>\n",
       "      <th>1598</th>\n",
       "      <td>-0.003469</td>\n",
       "      <td>-0.001853</td>\n",
       "      <td>0.000043</td>\n",
       "      <td>-0.364646</td>\n",
       "      <td>0.000651</td>\n",
       "      <td>-0.009308</td>\n",
       "      <td>-0.364547</td>\n",
       "      <td>-0.009306</td>\n",
       "    </tr>\n",
       "  </tbody>\n",
       "</table>\n",
       "<p>1599 rows × 8 columns</p>\n",
       "</div>"
      ],
      "text/plain": [
       "      dfb_Intercept  dfb_Q('free sulfur dioxide')   cooks_d  standard_resid  \\\n",
       "0         -0.002141                      0.001063  0.000003       -0.091146   \n",
       "1         -0.000250                      0.001224  0.000002        0.056052   \n",
       "2          0.005932                     -0.000801  0.000046        0.382588   \n",
       "3          0.005250                      0.001227  0.000066        0.456115   \n",
       "4         -0.002141                      0.001063  0.000003       -0.091146   \n",
       "...             ...                           ...       ...             ...   \n",
       "1594       0.027424                     -0.057327  0.002332       -1.484427   \n",
       "1595       0.058533                     -0.099824  0.005993       -1.800414   \n",
       "1596       0.017335                     -0.043682  0.001559       -1.390127   \n",
       "1597       0.027424                     -0.057327  0.002332       -1.484427   \n",
       "1598      -0.003469                     -0.001853  0.000043       -0.364646   \n",
       "\n",
       "      hat_diag  dffits_internal  student_resid    dffits  \n",
       "0     0.000761        -0.002516      -0.091118 -0.002515  \n",
       "1     0.001102         0.001861       0.056035  0.001861  \n",
       "2     0.000630         0.009604       0.382485  0.009602  \n",
       "3     0.000633         0.011476       0.456002  0.011473  \n",
       "4     0.000761        -0.002516      -0.091118 -0.002515  \n",
       "...        ...              ...            ...       ...  \n",
       "1594  0.002113        -0.068300      -1.484987 -0.068326  \n",
       "1595  0.003684        -0.109479      -1.801680 -0.109556  \n",
       "1596  0.001611        -0.055835      -1.390533 -0.055851  \n",
       "1597  0.002113        -0.068300      -1.484987 -0.068326  \n",
       "1598  0.000651        -0.009308      -0.364547 -0.009306  \n",
       "\n",
       "[1599 rows x 8 columns]"
      ]
     },
     "execution_count": 44,
     "metadata": {},
     "output_type": "execute_result"
    }
   ],
   "source": [
    "infl = model2.get_influence()\n",
    "sm_fr = infl.summary_frame()\n",
    "sm_fr\n"
   ]
  },
  {
   "cell_type": "code",
   "execution_count": 45,
   "metadata": {
    "slideshow": {
     "slide_type": "skip"
    }
   },
   "outputs": [
    {
     "data": {
      "text/html": [
       "<div>\n",
       "<style scoped>\n",
       "    .dataframe tbody tr th:only-of-type {\n",
       "        vertical-align: middle;\n",
       "    }\n",
       "\n",
       "    .dataframe tbody tr th {\n",
       "        vertical-align: top;\n",
       "    }\n",
       "\n",
       "    .dataframe thead th {\n",
       "        text-align: right;\n",
       "    }\n",
       "</style>\n",
       "<table border=\"1\" class=\"dataframe\">\n",
       "  <thead>\n",
       "    <tr style=\"text-align: right;\">\n",
       "      <th></th>\n",
       "      <th>cooks_distance</th>\n",
       "      <th>pvalue</th>\n",
       "    </tr>\n",
       "  </thead>\n",
       "  <tbody>\n",
       "    <tr>\n",
       "      <th>0</th>\n",
       "      <td>0.999997</td>\n",
       "      <td>0.000003</td>\n",
       "    </tr>\n",
       "    <tr>\n",
       "      <th>1</th>\n",
       "      <td>0.999998</td>\n",
       "      <td>0.000002</td>\n",
       "    </tr>\n",
       "    <tr>\n",
       "      <th>2</th>\n",
       "      <td>0.999954</td>\n",
       "      <td>0.000046</td>\n",
       "    </tr>\n",
       "    <tr>\n",
       "      <th>3</th>\n",
       "      <td>0.999934</td>\n",
       "      <td>0.000066</td>\n",
       "    </tr>\n",
       "    <tr>\n",
       "      <th>4</th>\n",
       "      <td>0.999997</td>\n",
       "      <td>0.000003</td>\n",
       "    </tr>\n",
       "    <tr>\n",
       "      <th>...</th>\n",
       "      <td>...</td>\n",
       "      <td>...</td>\n",
       "    </tr>\n",
       "    <tr>\n",
       "      <th>1594</th>\n",
       "      <td>0.997670</td>\n",
       "      <td>0.002332</td>\n",
       "    </tr>\n",
       "    <tr>\n",
       "      <th>1595</th>\n",
       "      <td>0.994025</td>\n",
       "      <td>0.005993</td>\n",
       "    </tr>\n",
       "    <tr>\n",
       "      <th>1596</th>\n",
       "      <td>0.998442</td>\n",
       "      <td>0.001559</td>\n",
       "    </tr>\n",
       "    <tr>\n",
       "      <th>1597</th>\n",
       "      <td>0.997670</td>\n",
       "      <td>0.002332</td>\n",
       "    </tr>\n",
       "    <tr>\n",
       "      <th>1598</th>\n",
       "      <td>0.999957</td>\n",
       "      <td>0.000043</td>\n",
       "    </tr>\n",
       "  </tbody>\n",
       "</table>\n",
       "<p>1599 rows × 2 columns</p>\n",
       "</div>"
      ],
      "text/plain": [
       "      cooks_distance    pvalue\n",
       "0           0.999997  0.000003\n",
       "1           0.999998  0.000002\n",
       "2           0.999954  0.000046\n",
       "3           0.999934  0.000066\n",
       "4           0.999997  0.000003\n",
       "...              ...       ...\n",
       "1594        0.997670  0.002332\n",
       "1595        0.994025  0.005993\n",
       "1596        0.998442  0.001559\n",
       "1597        0.997670  0.002332\n",
       "1598        0.999957  0.000043\n",
       "\n",
       "[1599 rows x 2 columns]"
      ]
     },
     "execution_count": 45,
     "metadata": {},
     "output_type": "execute_result"
    }
   ],
   "source": [
    "p,c = infl.cooks_distance\n",
    "df = pd.DataFrame.from_dict({'cooks_distance':c,'pvalue':p})\n",
    "df"
   ]
  },
  {
   "cell_type": "markdown",
   "metadata": {
    "slideshow": {
     "slide_type": "skip"
    }
   },
   "source": [
    "Insert your answer here."
   ]
  },
  {
   "cell_type": "code",
   "execution_count": 46,
   "metadata": {
    "slideshow": {
     "slide_type": "skip"
    }
   },
   "outputs": [
    {
     "data": {
      "text/html": [
       "<div>\n",
       "<style scoped>\n",
       "    .dataframe tbody tr th:only-of-type {\n",
       "        vertical-align: middle;\n",
       "    }\n",
       "\n",
       "    .dataframe tbody tr th {\n",
       "        vertical-align: top;\n",
       "    }\n",
       "\n",
       "    .dataframe thead th {\n",
       "        text-align: right;\n",
       "    }\n",
       "</style>\n",
       "<table border=\"1\" class=\"dataframe\">\n",
       "  <thead>\n",
       "    <tr style=\"text-align: right;\">\n",
       "      <th></th>\n",
       "      <th>cooks_distance</th>\n",
       "      <th>pvalue</th>\n",
       "    </tr>\n",
       "  </thead>\n",
       "  <tbody>\n",
       "    <tr>\n",
       "      <th>1081</th>\n",
       "      <td>0.898036</td>\n",
       "      <td>1.075528e-01</td>\n",
       "    </tr>\n",
       "    <tr>\n",
       "      <th>1079</th>\n",
       "      <td>0.908574</td>\n",
       "      <td>9.588442e-02</td>\n",
       "    </tr>\n",
       "    <tr>\n",
       "      <th>1154</th>\n",
       "      <td>0.981459</td>\n",
       "      <td>1.871485e-02</td>\n",
       "    </tr>\n",
       "    <tr>\n",
       "      <th>1558</th>\n",
       "      <td>0.982791</td>\n",
       "      <td>1.735861e-02</td>\n",
       "    </tr>\n",
       "    <tr>\n",
       "      <th>926</th>\n",
       "      <td>0.983476</td>\n",
       "      <td>1.666267e-02</td>\n",
       "    </tr>\n",
       "    <tr>\n",
       "      <th>...</th>\n",
       "      <td>...</td>\n",
       "      <td>...</td>\n",
       "    </tr>\n",
       "    <tr>\n",
       "      <th>194</th>\n",
       "      <td>1.000000</td>\n",
       "      <td>2.499602e-08</td>\n",
       "    </tr>\n",
       "    <tr>\n",
       "      <th>193</th>\n",
       "      <td>1.000000</td>\n",
       "      <td>2.499602e-08</td>\n",
       "    </tr>\n",
       "    <tr>\n",
       "      <th>117</th>\n",
       "      <td>1.000000</td>\n",
       "      <td>2.499602e-08</td>\n",
       "    </tr>\n",
       "    <tr>\n",
       "      <th>816</th>\n",
       "      <td>1.000000</td>\n",
       "      <td>3.685543e-09</td>\n",
       "    </tr>\n",
       "    <tr>\n",
       "      <th>622</th>\n",
       "      <td>1.000000</td>\n",
       "      <td>7.934061e-10</td>\n",
       "    </tr>\n",
       "  </tbody>\n",
       "</table>\n",
       "<p>1599 rows × 2 columns</p>\n",
       "</div>"
      ],
      "text/plain": [
       "      cooks_distance        pvalue\n",
       "1081        0.898036  1.075528e-01\n",
       "1079        0.908574  9.588442e-02\n",
       "1154        0.981459  1.871485e-02\n",
       "1558        0.982791  1.735861e-02\n",
       "926         0.983476  1.666267e-02\n",
       "...              ...           ...\n",
       "194         1.000000  2.499602e-08\n",
       "193         1.000000  2.499602e-08\n",
       "117         1.000000  2.499602e-08\n",
       "816         1.000000  3.685543e-09\n",
       "622         1.000000  7.934061e-10\n",
       "\n",
       "[1599 rows x 2 columns]"
      ]
     },
     "execution_count": 46,
     "metadata": {},
     "output_type": "execute_result"
    }
   ],
   "source": [
    "df.sort_values('cooks_distance')"
   ]
  },
  {
   "cell_type": "code",
   "execution_count": null,
   "metadata": {},
   "outputs": [],
   "source": []
  }
 ],
 "metadata": {
  "celltoolbar": "Slideshow",
  "kernelspec": {
   "display_name": "Python 3",
   "language": "python",
   "name": "python3"
  },
  "language_info": {
   "codemirror_mode": {
    "name": "ipython",
    "version": 3
   },
   "file_extension": ".py",
   "mimetype": "text/x-python",
   "name": "python",
   "nbconvert_exporter": "python",
   "pygments_lexer": "ipython3",
   "version": "3.6.11"
  }
 },
 "nbformat": 4,
 "nbformat_minor": 2
}
