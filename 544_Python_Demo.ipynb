{
  "nbformat": 4,
  "nbformat_minor": 0,
  "metadata": {
    "celltoolbar": "Slideshow",
    "kernelspec": {
      "display_name": "Python 3",
      "language": "python",
      "name": "python3"
    },
    "language_info": {
      "codemirror_mode": {
        "name": "ipython",
        "version": 3
      },
      "file_extension": ".py",
      "mimetype": "text/x-python",
      "name": "python",
      "nbconvert_exporter": "python",
      "pygments_lexer": "ipython3",
      "version": "3.6.11"
    },
    "colab": {
      "name": "544_Python_Demo.ipynb",
      "provenance": []
    }
  },
  "cells": [
    {
      "cell_type": "markdown",
      "metadata": {
        "id": "lZz_ujXZpsm9"
      },
      "source": [
        "# SI 370: Correlation and Regression\n",
        "[![Open In Colab](https://colab.research.google.com/assets/colab-badge.svg)](https://colab.research.google.com/github/umsi-data-science/si544-fa2020/blob/master/544_Python_Demo.ipynb)\n"
      ]
    },
    {
      "cell_type": "code",
      "metadata": {
        "id": "iVlmWUvQpsm-"
      },
      "source": [
        "import warnings\n",
        "warnings.filterwarnings('ignore')"
      ],
      "execution_count": 29,
      "outputs": []
    },
    {
      "cell_type": "code",
      "metadata": {
        "id": "kILKMWnppsnD"
      },
      "source": [
        "import pandas as pd\n",
        "import seaborn as sns\n",
        "import numpy as np\n",
        "import matplotlib.pyplot as plt"
      ],
      "execution_count": 30,
      "outputs": []
    },
    {
      "cell_type": "code",
      "metadata": {
        "scrolled": true,
        "id": "sx11zvH1psnF",
        "outputId": "33d76695-d1d7-4950-eaec-44e08a0a9e0f",
        "colab": {
          "base_uri": "https://localhost:8080/",
          "height": 195
        }
      },
      "source": [
        "evals = pd.read_csv('https://raw.githubusercontent.com/umsi-data-science/data/main/evals.csv')\n",
        "evals.head()"
      ],
      "execution_count": 31,
      "outputs": [
        {
          "output_type": "execute_result",
          "data": {
            "text/html": [
              "<div>\n",
              "<style scoped>\n",
              "    .dataframe tbody tr th:only-of-type {\n",
              "        vertical-align: middle;\n",
              "    }\n",
              "\n",
              "    .dataframe tbody tr th {\n",
              "        vertical-align: top;\n",
              "    }\n",
              "\n",
              "    .dataframe thead th {\n",
              "        text-align: right;\n",
              "    }\n",
              "</style>\n",
              "<table border=\"1\" class=\"dataframe\">\n",
              "  <thead>\n",
              "    <tr style=\"text-align: right;\">\n",
              "      <th></th>\n",
              "      <th>ID</th>\n",
              "      <th>prof_ID</th>\n",
              "      <th>score</th>\n",
              "      <th>age</th>\n",
              "      <th>bty_avg</th>\n",
              "      <th>gender</th>\n",
              "      <th>ethnicity</th>\n",
              "      <th>language</th>\n",
              "      <th>rank</th>\n",
              "      <th>pic_outfit</th>\n",
              "      <th>pic_color</th>\n",
              "      <th>cls_did_eval</th>\n",
              "      <th>cls_students</th>\n",
              "      <th>cls_level</th>\n",
              "    </tr>\n",
              "  </thead>\n",
              "  <tbody>\n",
              "    <tr>\n",
              "      <th>0</th>\n",
              "      <td>1</td>\n",
              "      <td>1</td>\n",
              "      <td>4.7</td>\n",
              "      <td>36</td>\n",
              "      <td>5.0</td>\n",
              "      <td>female</td>\n",
              "      <td>minority</td>\n",
              "      <td>english</td>\n",
              "      <td>tenure track</td>\n",
              "      <td>not formal</td>\n",
              "      <td>color</td>\n",
              "      <td>24</td>\n",
              "      <td>43</td>\n",
              "      <td>upper</td>\n",
              "    </tr>\n",
              "    <tr>\n",
              "      <th>1</th>\n",
              "      <td>2</td>\n",
              "      <td>1</td>\n",
              "      <td>4.1</td>\n",
              "      <td>36</td>\n",
              "      <td>5.0</td>\n",
              "      <td>female</td>\n",
              "      <td>minority</td>\n",
              "      <td>english</td>\n",
              "      <td>tenure track</td>\n",
              "      <td>not formal</td>\n",
              "      <td>color</td>\n",
              "      <td>86</td>\n",
              "      <td>125</td>\n",
              "      <td>upper</td>\n",
              "    </tr>\n",
              "    <tr>\n",
              "      <th>2</th>\n",
              "      <td>3</td>\n",
              "      <td>1</td>\n",
              "      <td>3.9</td>\n",
              "      <td>36</td>\n",
              "      <td>5.0</td>\n",
              "      <td>female</td>\n",
              "      <td>minority</td>\n",
              "      <td>english</td>\n",
              "      <td>tenure track</td>\n",
              "      <td>not formal</td>\n",
              "      <td>color</td>\n",
              "      <td>76</td>\n",
              "      <td>125</td>\n",
              "      <td>upper</td>\n",
              "    </tr>\n",
              "    <tr>\n",
              "      <th>3</th>\n",
              "      <td>4</td>\n",
              "      <td>1</td>\n",
              "      <td>4.8</td>\n",
              "      <td>36</td>\n",
              "      <td>5.0</td>\n",
              "      <td>female</td>\n",
              "      <td>minority</td>\n",
              "      <td>english</td>\n",
              "      <td>tenure track</td>\n",
              "      <td>not formal</td>\n",
              "      <td>color</td>\n",
              "      <td>77</td>\n",
              "      <td>123</td>\n",
              "      <td>upper</td>\n",
              "    </tr>\n",
              "    <tr>\n",
              "      <th>4</th>\n",
              "      <td>5</td>\n",
              "      <td>2</td>\n",
              "      <td>4.6</td>\n",
              "      <td>59</td>\n",
              "      <td>3.0</td>\n",
              "      <td>male</td>\n",
              "      <td>not minority</td>\n",
              "      <td>english</td>\n",
              "      <td>tenured</td>\n",
              "      <td>not formal</td>\n",
              "      <td>color</td>\n",
              "      <td>17</td>\n",
              "      <td>20</td>\n",
              "      <td>upper</td>\n",
              "    </tr>\n",
              "  </tbody>\n",
              "</table>\n",
              "</div>"
            ],
            "text/plain": [
              "   ID  prof_ID  score  age  ...  pic_color cls_did_eval cls_students cls_level\n",
              "0   1        1    4.7   36  ...      color           24           43     upper\n",
              "1   2        1    4.1   36  ...      color           86          125     upper\n",
              "2   3        1    3.9   36  ...      color           76          125     upper\n",
              "3   4        1    4.8   36  ...      color           77          123     upper\n",
              "4   5        2    4.6   59  ...      color           17           20     upper\n",
              "\n",
              "[5 rows x 14 columns]"
            ]
          },
          "metadata": {
            "tags": []
          },
          "execution_count": 31
        }
      ]
    },
    {
      "cell_type": "code",
      "metadata": {
        "id": "g_ccBGbzpsnJ"
      },
      "source": [
        "evals = evals[['score','age','bty_avg']]"
      ],
      "execution_count": 32,
      "outputs": []
    },
    {
      "cell_type": "code",
      "metadata": {
        "id": "pzSs_Y42psnM",
        "outputId": "7ea79844-5c8f-4976-9390-4d3364ee55b9",
        "colab": {
          "base_uri": "https://localhost:8080/",
          "height": 567
        }
      },
      "source": [
        "sns.pairplot(evals)"
      ],
      "execution_count": 33,
      "outputs": [
        {
          "output_type": "execute_result",
          "data": {
            "text/plain": [
              "<seaborn.axisgrid.PairGrid at 0x7f8a94052208>"
            ]
          },
          "metadata": {
            "tags": []
          },
          "execution_count": 33
        },
        {
          "output_type": "display_data",
          "data": {
            "image/png": "[encoded data removed]",
            "text/plain": [
              "<Figure size 540x540 with 12 Axes>"
            ]
          },
          "metadata": {
            "tags": [],
            "needs_background": "light"
          }
        }
      ]
    },
    {
      "cell_type": "code",
      "metadata": {
        "id": "U0mNrt3bpsnP",
        "outputId": "34b46a21-d1c7-48e6-e8e3-d4e50c8c6c10",
        "colab": {
          "base_uri": "https://localhost:8080/",
          "height": 136
        }
      },
      "source": [
        "# to calculate all possible correlation coefficients in a dataframe\n",
        "evals.corr()"
      ],
      "execution_count": 34,
      "outputs": [
        {
          "output_type": "execute_result",
          "data": {
            "text/html": [
              "<div>\n",
              "<style scoped>\n",
              "    .dataframe tbody tr th:only-of-type {\n",
              "        vertical-align: middle;\n",
              "    }\n",
              "\n",
              "    .dataframe tbody tr th {\n",
              "        vertical-align: top;\n",
              "    }\n",
              "\n",
              "    .dataframe thead th {\n",
              "        text-align: right;\n",
              "    }\n",
              "</style>\n",
              "<table border=\"1\" class=\"dataframe\">\n",
              "  <thead>\n",
              "    <tr style=\"text-align: right;\">\n",
              "      <th></th>\n",
              "      <th>score</th>\n",
              "      <th>age</th>\n",
              "      <th>bty_avg</th>\n",
              "    </tr>\n",
              "  </thead>\n",
              "  <tbody>\n",
              "    <tr>\n",
              "      <th>score</th>\n",
              "      <td>1.000000</td>\n",
              "      <td>-0.107032</td>\n",
              "      <td>0.187142</td>\n",
              "    </tr>\n",
              "    <tr>\n",
              "      <th>age</th>\n",
              "      <td>-0.107032</td>\n",
              "      <td>1.000000</td>\n",
              "      <td>-0.304603</td>\n",
              "    </tr>\n",
              "    <tr>\n",
              "      <th>bty_avg</th>\n",
              "      <td>0.187142</td>\n",
              "      <td>-0.304603</td>\n",
              "      <td>1.000000</td>\n",
              "    </tr>\n",
              "  </tbody>\n",
              "</table>\n",
              "</div>"
            ],
            "text/plain": [
              "            score       age   bty_avg\n",
              "score    1.000000 -0.107032  0.187142\n",
              "age     -0.107032  1.000000 -0.304603\n",
              "bty_avg  0.187142 -0.304603  1.000000"
            ]
          },
          "metadata": {
            "tags": []
          },
          "execution_count": 34
        }
      ]
    },
    {
      "cell_type": "markdown",
      "metadata": {
        "id": "tXJqQDDGpsnS"
      },
      "source": [
        "A heatmap is a really useful visualization technique for large correlation matrices (less so for small correlation matrices:"
      ]
    },
    {
      "cell_type": "code",
      "metadata": {
        "id": "IUwYGPN-psnS",
        "outputId": "9c2aaf78-f983-4704-aa7c-15082020c535",
        "colab": {
          "base_uri": "https://localhost:8080/",
          "height": 287
        }
      },
      "source": [
        "sns.heatmap(evals.corr())"
      ],
      "execution_count": 35,
      "outputs": [
        {
          "output_type": "execute_result",
          "data": {
            "text/plain": [
              "<matplotlib.axes._subplots.AxesSubplot at 0x7f8a93d87668>"
            ]
          },
          "metadata": {
            "tags": []
          },
          "execution_count": 35
        },
        {
          "output_type": "display_data",
          "data": {
            "image/png": "[encoded data removed]",
            "text/plain": [
              "<Figure size 432x288 with 2 Axes>"
            ]
          },
          "metadata": {
            "tags": [],
            "needs_background": "light"
          }
        }
      ]
    },
    {
      "cell_type": "markdown",
      "metadata": {
        "id": "4aSUmi-GpsnV"
      },
      "source": [
        "We can also use a different type of color palette to highlight the differences:"
      ]
    },
    {
      "cell_type": "code",
      "metadata": {
        "id": "D9LTluOZpsnW",
        "outputId": "99bf222c-d23b-4376-ee06-9e9fc082d456",
        "colab": {
          "base_uri": "https://localhost:8080/",
          "height": 287
        }
      },
      "source": [
        "sns.heatmap(evals.corr(),cmap=sns.color_palette(\"BrBG\"))"
      ],
      "execution_count": 36,
      "outputs": [
        {
          "output_type": "execute_result",
          "data": {
            "text/plain": [
              "<matplotlib.axes._subplots.AxesSubplot at 0x7f8a93be6e80>"
            ]
          },
          "metadata": {
            "tags": []
          },
          "execution_count": 36
        },
        {
          "output_type": "display_data",
          "data": {
            "image/png": "[encoded data removed]",
            "text/plain": [
              "<Figure size 432x288 with 2 Axes>"
            ]
          },
          "metadata": {
            "tags": [],
            "needs_background": "light"
          }
        }
      ]
    },
    {
      "cell_type": "markdown",
      "metadata": {
        "id": "1JnbtZdhpsnY"
      },
      "source": [
        "We can also create a more complex visualization that incorporates\n",
        "histograms of each variable as well as a scatterplot with a\n",
        "regression line including confidence intervals."
      ]
    },
    {
      "cell_type": "code",
      "metadata": {
        "id": "7FQ5YAr6psnZ",
        "outputId": "ad63672e-b1f1-46fb-898a-ba7ce85b5615",
        "colab": {
          "base_uri": "https://localhost:8080/",
          "height": 441
        }
      },
      "source": [
        "g = sns.JointGrid(data=evals,x='score',y='bty_avg')\n",
        "g = g.plot(sns.regplot, sns.histplot)"
      ],
      "execution_count": 37,
      "outputs": [
        {
          "output_type": "display_data",
          "data": {
            "image/png": "[encoded data removed]",
            "text/plain": [
              "<Figure size 432x432 with 3 Axes>"
            ]
          },
          "metadata": {
            "tags": [],
            "needs_background": "light"
          }
        }
      ]
    },
    {
      "cell_type": "markdown",
      "metadata": {
        "id": "6FyOXTsgU2ui"
      },
      "source": [
        "## Ordinary Least Squares (OLS) Regression"
      ]
    },
    {
      "cell_type": "code",
      "metadata": {
        "id": "1JuuPtlTU2ui"
      },
      "source": [
        "import statsmodels.api as sm\n",
        "import statsmodels.formula.api as smf"
      ],
      "execution_count": 38,
      "outputs": []
    },
    {
      "cell_type": "markdown",
      "metadata": {
        "id": "ATYDr80MU2uk"
      },
      "source": [
        "statsmodels uses R-Style formulas: y ~ x1 + x2 + x3 + ...\n",
        "\n",
        "1. y represents the outcome/dependent variable\n",
        "2. x1, x2, x3, etc represent explanatory/independent variables "
      ]
    },
    {
      "cell_type": "code",
      "metadata": {
        "scrolled": false,
        "id": "Aquyw2dgpsnf",
        "outputId": "26df6e88-9c5b-4a6e-e495-686308b685ae",
        "colab": {
          "base_uri": "https://localhost:8080/",
          "height": 426
        }
      },
      "source": [
        "model0 = smf.ols(\"score ~ bty_avg\", data=evals).fit()\n",
        "model0.summary()"
      ],
      "execution_count": 39,
      "outputs": [
        {
          "output_type": "execute_result",
          "data": {
            "text/html": [
              "<table class=\"simpletable\">\n",
              "<caption>OLS Regression Results</caption>\n",
              "<tr>\n",
              "  <th>Dep. Variable:</th>          <td>score</td>      <th>  R-squared:         </th> <td>   0.035</td>\n",
              "</tr>\n",
              "<tr>\n",
              "  <th>Model:</th>                   <td>OLS</td>       <th>  Adj. R-squared:    </th> <td>   0.033</td>\n",
              "</tr>\n",
              "<tr>\n",
              "  <th>Method:</th>             <td>Least Squares</td>  <th>  F-statistic:       </th> <td>   16.73</td>\n",
              "</tr>\n",
              "<tr>\n",
              "  <th>Date:</th>             <td>Wed, 11 Nov 2020</td> <th>  Prob (F-statistic):</th> <td>5.08e-05</td>\n",
              "</tr>\n",
              "<tr>\n",
              "  <th>Time:</th>                 <td>18:53:22</td>     <th>  Log-Likelihood:    </th> <td> -366.22</td>\n",
              "</tr>\n",
              "<tr>\n",
              "  <th>No. Observations:</th>      <td>   463</td>      <th>  AIC:               </th> <td>   736.4</td>\n",
              "</tr>\n",
              "<tr>\n",
              "  <th>Df Residuals:</th>          <td>   461</td>      <th>  BIC:               </th> <td>   744.7</td>\n",
              "</tr>\n",
              "<tr>\n",
              "  <th>Df Model:</th>              <td>     1</td>      <th>                     </th>     <td> </td>   \n",
              "</tr>\n",
              "<tr>\n",
              "  <th>Covariance Type:</th>      <td>nonrobust</td>    <th>                     </th>     <td> </td>   \n",
              "</tr>\n",
              "</table>\n",
              "<table class=\"simpletable\">\n",
              "<tr>\n",
              "      <td></td>         <th>coef</th>     <th>std err</th>      <th>t</th>      <th>P>|t|</th>  <th>[0.025</th>    <th>0.975]</th>  \n",
              "</tr>\n",
              "<tr>\n",
              "  <th>Intercept</th> <td>    3.8803</td> <td>    0.076</td> <td>   50.961</td> <td> 0.000</td> <td>    3.731</td> <td>    4.030</td>\n",
              "</tr>\n",
              "<tr>\n",
              "  <th>bty_avg</th>   <td>    0.0666</td> <td>    0.016</td> <td>    4.090</td> <td> 0.000</td> <td>    0.035</td> <td>    0.099</td>\n",
              "</tr>\n",
              "</table>\n",
              "<table class=\"simpletable\">\n",
              "<tr>\n",
              "  <th>Omnibus:</th>       <td>33.007</td> <th>  Durbin-Watson:     </th> <td>   1.267</td>\n",
              "</tr>\n",
              "<tr>\n",
              "  <th>Prob(Omnibus):</th> <td> 0.000</td> <th>  Jarque-Bera (JB):  </th> <td>  38.797</td>\n",
              "</tr>\n",
              "<tr>\n",
              "  <th>Skew:</th>          <td>-0.709</td> <th>  Prob(JB):          </th> <td>3.76e-09</td>\n",
              "</tr>\n",
              "<tr>\n",
              "  <th>Kurtosis:</th>      <td> 3.007</td> <th>  Cond. No.          </th> <td>    14.9</td>\n",
              "</tr>\n",
              "</table><br/><br/>Warnings:<br/>[1] Standard Errors assume that the covariance matrix of the errors is correctly specified."
            ],
            "text/plain": [
              "<class 'statsmodels.iolib.summary.Summary'>\n",
              "\"\"\"\n",
              "                            OLS Regression Results                            \n",
              "==============================================================================\n",
              "Dep. Variable:                  score   R-squared:                       0.035\n",
              "Model:                            OLS   Adj. R-squared:                  0.033\n",
              "Method:                 Least Squares   F-statistic:                     16.73\n",
              "Date:                Wed, 11 Nov 2020   Prob (F-statistic):           5.08e-05\n",
              "Time:                        18:53:22   Log-Likelihood:                -366.22\n",
              "No. Observations:                 463   AIC:                             736.4\n",
              "Df Residuals:                     461   BIC:                             744.7\n",
              "Df Model:                           1                                         \n",
              "Covariance Type:            nonrobust                                         \n",
              "==============================================================================\n",
              "                 coef    std err          t      P>|t|      [0.025      0.975]\n",
              "------------------------------------------------------------------------------\n",
              "Intercept      3.8803      0.076     50.961      0.000       3.731       4.030\n",
              "bty_avg        0.0666      0.016      4.090      0.000       0.035       0.099\n",
              "==============================================================================\n",
              "Omnibus:                       33.007   Durbin-Watson:                   1.267\n",
              "Prob(Omnibus):                  0.000   Jarque-Bera (JB):               38.797\n",
              "Skew:                          -0.709   Prob(JB):                     3.76e-09\n",
              "Kurtosis:                       3.007   Cond. No.                         14.9\n",
              "==============================================================================\n",
              "\n",
              "Warnings:\n",
              "[1] Standard Errors assume that the covariance matrix of the errors is correctly specified.\n",
              "\"\"\""
            ]
          },
          "metadata": {
            "tags": []
          },
          "execution_count": 39
        }
      ]
    },
    {
      "cell_type": "code",
      "metadata": {
        "id": "_v0E-wuPqBh7",
        "outputId": "e4da93a5-4f42-4def-c6ab-f4b71498740a",
        "colab": {
          "base_uri": "https://localhost:8080/"
        }
      },
      "source": [
        "model0.resid"
      ],
      "execution_count": 40,
      "outputs": [
        {
          "output_type": "execute_result",
          "data": {
            "text/plain": [
              "0      0.486477\n",
              "1     -0.113523\n",
              "2     -0.313523\n",
              "3      0.586477\n",
              "4      0.519751\n",
              "         ...   \n",
              "458    0.164331\n",
              "459   -0.735713\n",
              "460    0.164287\n",
              "461    0.164287\n",
              "462   -0.135713\n",
              "Length: 463, dtype: float64"
            ]
          },
          "metadata": {
            "tags": []
          },
          "execution_count": 40
        }
      ]
    },
    {
      "cell_type": "code",
      "metadata": {
        "scrolled": false,
        "id": "1LjAZ0AIpsnj",
        "outputId": "c71000ac-210d-4806-f121-86c570915a92"
      },
      "source": [
        "sns.histplot(model0.resid)"
      ],
      "execution_count": null,
      "outputs": [
        {
          "output_type": "execute_result",
          "data": {
            "text/plain": [
              "<AxesSubplot:ylabel='Count'>"
            ]
          },
          "metadata": {
            "tags": []
          },
          "execution_count": 61
        },
        {
          "output_type": "display_data",
          "data": {
            "image/png": "[encoded data removed]",
            "text/plain": [
              "<Figure size 432x288 with 1 Axes>"
            ]
          },
          "metadata": {
            "tags": [],
            "needs_background": "light"
          }
        }
      ]
    },
    {
      "cell_type": "code",
      "metadata": {
        "id": "L7x7_Yt6psnm",
        "outputId": "2e15d65b-71af-4c00-9142-db280ecdff4e",
        "colab": {
          "base_uri": "https://localhost:8080/",
          "height": 280
        }
      },
      "source": [
        "ax = sns.scatterplot(x=evals['bty_avg'],y=model0.resid)"
      ],
      "execution_count": 42,
      "outputs": [
        {
          "output_type": "display_data",
          "data": {
            "image/png": "[encoded data removed]",
            "text/plain": [
              "<Figure size 432x288 with 1 Axes>"
            ]
          },
          "metadata": {
            "tags": [],
            "needs_background": "light"
          }
        }
      ]
    },
    {
      "cell_type": "code",
      "metadata": {
        "id": "6ftlNQ40qRgm",
        "outputId": "096dba49-f6fc-4bcb-9adc-558e6a389698",
        "colab": {
          "base_uri": "https://localhost:8080/"
        }
      },
      "source": [
        "\n",
        "ax.axhline(0)\n",
        "ax.plot()"
      ],
      "execution_count": 44,
      "outputs": [
        {
          "output_type": "execute_result",
          "data": {
            "text/plain": [
              "[]"
            ]
          },
          "metadata": {
            "tags": []
          },
          "execution_count": 44
        }
      ]
    },
    {
      "cell_type": "code",
      "metadata": {
        "id": "CHYDiy_Lpsnp",
        "outputId": "a3ccf1fb-2445-44b7-da52-47d06cf3ba76"
      },
      "source": [
        "model0.params"
      ],
      "execution_count": null,
      "outputs": [
        {
          "output_type": "execute_result",
          "data": {
            "text/plain": [
              "Intercept    3.880338\n",
              "bty_avg      0.066637\n",
              "dtype: float64"
            ]
          },
          "metadata": {
            "tags": []
          },
          "execution_count": 47
        }
      ]
    },
    {
      "cell_type": "code",
      "metadata": {
        "id": "RVe5z3cZpsns",
        "outputId": "63ff269f-1e5c-422a-dc8b-835e7a7b2c5f"
      },
      "source": [
        "model0.params.loc['bty_avg']"
      ],
      "execution_count": null,
      "outputs": [
        {
          "output_type": "execute_result",
          "data": {
            "text/plain": [
              "0.06663703701981423"
            ]
          },
          "metadata": {
            "tags": []
          },
          "execution_count": 48
        }
      ]
    },
    {
      "cell_type": "code",
      "metadata": {
        "id": "EwnNNN_Cpsnv",
        "outputId": "9cbaf6c8-84f2-4936-ff22-4850a718a9c4"
      },
      "source": [
        "model0.conf_int()"
      ],
      "execution_count": null,
      "outputs": [
        {
          "output_type": "execute_result",
          "data": {
            "text/html": [
              "<div>\n",
              "<style scoped>\n",
              "    .dataframe tbody tr th:only-of-type {\n",
              "        vertical-align: middle;\n",
              "    }\n",
              "\n",
              "    .dataframe tbody tr th {\n",
              "        vertical-align: top;\n",
              "    }\n",
              "\n",
              "    .dataframe thead th {\n",
              "        text-align: right;\n",
              "    }\n",
              "</style>\n",
              "<table border=\"1\" class=\"dataframe\">\n",
              "  <thead>\n",
              "    <tr style=\"text-align: right;\">\n",
              "      <th></th>\n",
              "      <th>0</th>\n",
              "      <th>1</th>\n",
              "    </tr>\n",
              "  </thead>\n",
              "  <tbody>\n",
              "    <tr>\n",
              "      <th>Intercept</th>\n",
              "      <td>3.730708</td>\n",
              "      <td>4.029968</td>\n",
              "    </tr>\n",
              "    <tr>\n",
              "      <th>bty_avg</th>\n",
              "      <td>0.034623</td>\n",
              "      <td>0.098651</td>\n",
              "    </tr>\n",
              "  </tbody>\n",
              "</table>\n",
              "</div>"
            ],
            "text/plain": [
              "                  0         1\n",
              "Intercept  3.730708  4.029968\n",
              "bty_avg    0.034623  0.098651"
            ]
          },
          "metadata": {
            "tags": []
          },
          "execution_count": 55
        }
      ]
    },
    {
      "cell_type": "code",
      "metadata": {
        "id": "KignsXu7psnx",
        "outputId": "0d058fa3-ae82-4672-c1f8-ca3bc81c74f0"
      },
      "source": [
        "# Bootstrapping the slope\n",
        "evals_sample = evals.sample(n=len(evals),replace=True)\n",
        "evals_sample.head()"
      ],
      "execution_count": null,
      "outputs": [
        {
          "output_type": "execute_result",
          "data": {
            "text/html": [
              "<div>\n",
              "<style scoped>\n",
              "    .dataframe tbody tr th:only-of-type {\n",
              "        vertical-align: middle;\n",
              "    }\n",
              "\n",
              "    .dataframe tbody tr th {\n",
              "        vertical-align: top;\n",
              "    }\n",
              "\n",
              "    .dataframe thead th {\n",
              "        text-align: right;\n",
              "    }\n",
              "</style>\n",
              "<table border=\"1\" class=\"dataframe\">\n",
              "  <thead>\n",
              "    <tr style=\"text-align: right;\">\n",
              "      <th></th>\n",
              "      <th>ID</th>\n",
              "      <th>prof_ID</th>\n",
              "      <th>score</th>\n",
              "      <th>age</th>\n",
              "      <th>bty_avg</th>\n",
              "      <th>gender</th>\n",
              "      <th>ethnicity</th>\n",
              "      <th>language</th>\n",
              "      <th>rank</th>\n",
              "      <th>pic_outfit</th>\n",
              "      <th>pic_color</th>\n",
              "      <th>cls_did_eval</th>\n",
              "      <th>cls_students</th>\n",
              "      <th>cls_level</th>\n",
              "    </tr>\n",
              "  </thead>\n",
              "  <tbody>\n",
              "    <tr>\n",
              "      <th>262</th>\n",
              "      <td>263</td>\n",
              "      <td>49</td>\n",
              "      <td>4.8</td>\n",
              "      <td>52</td>\n",
              "      <td>3.167</td>\n",
              "      <td>male</td>\n",
              "      <td>not minority</td>\n",
              "      <td>english</td>\n",
              "      <td>tenured</td>\n",
              "      <td>not formal</td>\n",
              "      <td>color</td>\n",
              "      <td>27</td>\n",
              "      <td>30</td>\n",
              "      <td>upper</td>\n",
              "    </tr>\n",
              "    <tr>\n",
              "      <th>45</th>\n",
              "      <td>46</td>\n",
              "      <td>9</td>\n",
              "      <td>4.7</td>\n",
              "      <td>33</td>\n",
              "      <td>4.667</td>\n",
              "      <td>female</td>\n",
              "      <td>not minority</td>\n",
              "      <td>english</td>\n",
              "      <td>tenure track</td>\n",
              "      <td>not formal</td>\n",
              "      <td>color</td>\n",
              "      <td>29</td>\n",
              "      <td>49</td>\n",
              "      <td>upper</td>\n",
              "    </tr>\n",
              "    <tr>\n",
              "      <th>102</th>\n",
              "      <td>103</td>\n",
              "      <td>19</td>\n",
              "      <td>5.0</td>\n",
              "      <td>46</td>\n",
              "      <td>4.333</td>\n",
              "      <td>female</td>\n",
              "      <td>not minority</td>\n",
              "      <td>english</td>\n",
              "      <td>tenured</td>\n",
              "      <td>not formal</td>\n",
              "      <td>black&amp;white</td>\n",
              "      <td>14</td>\n",
              "      <td>15</td>\n",
              "      <td>lower</td>\n",
              "    </tr>\n",
              "    <tr>\n",
              "      <th>98</th>\n",
              "      <td>99</td>\n",
              "      <td>18</td>\n",
              "      <td>4.3</td>\n",
              "      <td>48</td>\n",
              "      <td>4.333</td>\n",
              "      <td>male</td>\n",
              "      <td>not minority</td>\n",
              "      <td>english</td>\n",
              "      <td>teaching</td>\n",
              "      <td>not formal</td>\n",
              "      <td>color</td>\n",
              "      <td>18</td>\n",
              "      <td>27</td>\n",
              "      <td>upper</td>\n",
              "    </tr>\n",
              "    <tr>\n",
              "      <th>151</th>\n",
              "      <td>152</td>\n",
              "      <td>27</td>\n",
              "      <td>3.6</td>\n",
              "      <td>52</td>\n",
              "      <td>4.833</td>\n",
              "      <td>male</td>\n",
              "      <td>minority</td>\n",
              "      <td>non-english</td>\n",
              "      <td>tenured</td>\n",
              "      <td>formal</td>\n",
              "      <td>color</td>\n",
              "      <td>12</td>\n",
              "      <td>15</td>\n",
              "      <td>upper</td>\n",
              "    </tr>\n",
              "  </tbody>\n",
              "</table>\n",
              "</div>"
            ],
            "text/plain": [
              "      ID  prof_ID  score  age  bty_avg  gender     ethnicity     language  \\\n",
              "262  263       49    4.8   52    3.167    male  not minority      english   \n",
              "45    46        9    4.7   33    4.667  female  not minority      english   \n",
              "102  103       19    5.0   46    4.333  female  not minority      english   \n",
              "98    99       18    4.3   48    4.333    male  not minority      english   \n",
              "151  152       27    3.6   52    4.833    male      minority  non-english   \n",
              "\n",
              "             rank  pic_outfit    pic_color  cls_did_eval  cls_students  \\\n",
              "262       tenured  not formal        color            27            30   \n",
              "45   tenure track  not formal        color            29            49   \n",
              "102       tenured  not formal  black&white            14            15   \n",
              "98       teaching  not formal        color            18            27   \n",
              "151       tenured      formal        color            12            15   \n",
              "\n",
              "    cls_level  \n",
              "262     upper  \n",
              "45      upper  \n",
              "102     lower  \n",
              "98      upper  \n",
              "151     upper  "
            ]
          },
          "metadata": {
            "tags": []
          },
          "execution_count": 50
        }
      ]
    },
    {
      "cell_type": "code",
      "metadata": {
        "id": "Z3Pkteq8psn0",
        "outputId": "b46247b5-e648-40b2-ae57-bd3445969f1f"
      },
      "source": [
        "nreps = 1000\n",
        "slopes = []\n",
        "for i in range(nreps):\n",
        "    evals_sample = evals.sample(n=len(evals),replace=True)\n",
        "    model = smf.ols(\"score ~ bty_avg\", data=evals_sample).fit()\n",
        "    slope = model.params.loc['bty_avg']\n",
        "    slopes.append(slope)\n",
        "mean = np.mean(slopes)\n",
        "sd = np.std(slopes)\n",
        "print(mean,sd)"
      ],
      "execution_count": null,
      "outputs": [
        {
          "output_type": "stream",
          "text": [
            "0.06665916983697312 0.017194621143857183\n"
          ],
          "name": "stdout"
        }
      ]
    },
    {
      "cell_type": "code",
      "metadata": {
        "id": "oh7fU6Jxpsn2"
      },
      "source": [
        "lower_percentile = np.quantile(slopes,0.025)\n",
        "upper_percentile = np.quantile(slopes,0.975)"
      ],
      "execution_count": null,
      "outputs": []
    },
    {
      "cell_type": "code",
      "metadata": {
        "id": "6l0Kf2jspsn5",
        "outputId": "e98f1ada-903e-4f20-d867-0fd134ade99b"
      },
      "source": [
        "ax = sns.histplot(slopes)\n",
        "ax.axvline(mean,color='magenta')\n",
        "ax.axvline(mean-2*sd,color='green')\n",
        "ax.axvline(mean+2*sd,color='green')\n",
        "ax.axvline(model0.conf_int().loc['bty_avg'].iloc[0],color='pink')\n",
        "ax.axvline(model0.conf_int().loc['bty_avg'].iloc[1],color='pink')\n",
        "ax.axvline(np.quantile(slopes,0.025),color='blue')\n",
        "ax.axvline(np.quantile(slopes,0.975),color='blue')"
      ],
      "execution_count": null,
      "outputs": [
        {
          "output_type": "execute_result",
          "data": {
            "text/plain": [
              "<matplotlib.lines.Line2D at 0x7f7ef2afc438>"
            ]
          },
          "metadata": {
            "tags": []
          },
          "execution_count": 60
        },
        {
          "output_type": "display_data",
          "data": {
            "image/png": "[encoded data removed]",
            "text/plain": [
              "<Figure size 432x288 with 1 Axes>"
            ]
          },
          "metadata": {
            "tags": [],
            "needs_background": "light"
          }
        }
      ]
    },
    {
      "cell_type": "markdown",
      "metadata": {
        "id": "mEtRgHL5psn8"
      },
      "source": [
        "Let's look at Anscombe's Quartet:"
      ]
    },
    {
      "cell_type": "code",
      "metadata": {
        "id": "uNySyrc0psn8",
        "outputId": "9be696d3-43d3-4425-a4b7-4d064e8e0af5"
      },
      "source": [
        "anscombe = sns.load_dataset(\"anscombe\")\n",
        "\n",
        "# Show the results of a linear regression within each dataset\n",
        "sns.lmplot(x=\"x\", y=\"y\", col=\"dataset\", hue=\"dataset\", data=anscombe,\n",
        "           col_wrap=2, ci=None, palette=\"muted\", height=4)"
      ],
      "execution_count": null,
      "outputs": [
        {
          "output_type": "execute_result",
          "data": {
            "text/plain": [
              "<seaborn.axisgrid.FacetGrid at 0x7fb9f1b56fd0>"
            ]
          },
          "metadata": {
            "tags": []
          },
          "execution_count": 94
        },
        {
          "output_type": "display_data",
          "data": {
            "image/png": "[encoded data removed]",
            "text/plain": [
              "<Figure size 576x576 with 4 Axes>"
            ]
          },
          "metadata": {
            "tags": [],
            "needs_background": "light"
          }
        }
      ]
    },
    {
      "cell_type": "code",
      "metadata": {
        "id": "DANImZLJpsn_",
        "outputId": "9d409bb1-ee8f-4f18-b7d6-9d652dae106d"
      },
      "source": [
        "anscombe.sample(10)\n"
      ],
      "execution_count": null,
      "outputs": [
        {
          "output_type": "execute_result",
          "data": {
            "text/html": [
              "<div>\n",
              "<style scoped>\n",
              "    .dataframe tbody tr th:only-of-type {\n",
              "        vertical-align: middle;\n",
              "    }\n",
              "\n",
              "    .dataframe tbody tr th {\n",
              "        vertical-align: top;\n",
              "    }\n",
              "\n",
              "    .dataframe thead th {\n",
              "        text-align: right;\n",
              "    }\n",
              "</style>\n",
              "<table border=\"1\" class=\"dataframe\">\n",
              "  <thead>\n",
              "    <tr style=\"text-align: right;\">\n",
              "      <th></th>\n",
              "      <th>dataset</th>\n",
              "      <th>x</th>\n",
              "      <th>y</th>\n",
              "    </tr>\n",
              "  </thead>\n",
              "  <tbody>\n",
              "    <tr>\n",
              "      <th>7</th>\n",
              "      <td>I</td>\n",
              "      <td>4.0</td>\n",
              "      <td>4.26</td>\n",
              "    </tr>\n",
              "    <tr>\n",
              "      <th>29</th>\n",
              "      <td>III</td>\n",
              "      <td>4.0</td>\n",
              "      <td>5.39</td>\n",
              "    </tr>\n",
              "    <tr>\n",
              "      <th>5</th>\n",
              "      <td>I</td>\n",
              "      <td>14.0</td>\n",
              "      <td>9.96</td>\n",
              "    </tr>\n",
              "    <tr>\n",
              "      <th>28</th>\n",
              "      <td>III</td>\n",
              "      <td>6.0</td>\n",
              "      <td>6.08</td>\n",
              "    </tr>\n",
              "    <tr>\n",
              "      <th>37</th>\n",
              "      <td>IV</td>\n",
              "      <td>8.0</td>\n",
              "      <td>8.47</td>\n",
              "    </tr>\n",
              "    <tr>\n",
              "      <th>15</th>\n",
              "      <td>II</td>\n",
              "      <td>11.0</td>\n",
              "      <td>9.26</td>\n",
              "    </tr>\n",
              "    <tr>\n",
              "      <th>31</th>\n",
              "      <td>III</td>\n",
              "      <td>7.0</td>\n",
              "      <td>6.42</td>\n",
              "    </tr>\n",
              "    <tr>\n",
              "      <th>41</th>\n",
              "      <td>IV</td>\n",
              "      <td>8.0</td>\n",
              "      <td>5.56</td>\n",
              "    </tr>\n",
              "    <tr>\n",
              "      <th>36</th>\n",
              "      <td>IV</td>\n",
              "      <td>8.0</td>\n",
              "      <td>8.84</td>\n",
              "    </tr>\n",
              "    <tr>\n",
              "      <th>39</th>\n",
              "      <td>IV</td>\n",
              "      <td>8.0</td>\n",
              "      <td>5.25</td>\n",
              "    </tr>\n",
              "  </tbody>\n",
              "</table>\n",
              "</div>"
            ],
            "text/plain": [
              "   dataset     x     y\n",
              "7        I   4.0  4.26\n",
              "29     III   4.0  5.39\n",
              "5        I  14.0  9.96\n",
              "28     III   6.0  6.08\n",
              "37      IV   8.0  8.47\n",
              "15      II  11.0  9.26\n",
              "31     III   7.0  6.42\n",
              "41      IV   8.0  5.56\n",
              "36      IV   8.0  8.84\n",
              "39      IV   8.0  5.25"
            ]
          },
          "metadata": {
            "tags": []
          },
          "execution_count": 97
        }
      ]
    },
    {
      "cell_type": "code",
      "metadata": {
        "id": "O0n7Zve3psoB"
      },
      "source": [
        "anscombe_1 = anscombe[anscombe.dataset == 'I']\n",
        "anscombe_2 = anscombe[anscombe.dataset == 'II']\n",
        "anscombe_3 = anscombe[anscombe.dataset == 'III']\n",
        "anscombe_4 = anscombe[anscombe.dataset == 'IV']"
      ],
      "execution_count": null,
      "outputs": []
    },
    {
      "cell_type": "code",
      "metadata": {
        "id": "gCMdI77HpsoE",
        "outputId": "876ae42e-99eb-45bc-901f-03e9f2d67404"
      },
      "source": [
        "anscombe_1_lm = smf.ols('y ~ x',anscombe_1).fit()\n",
        "print(\"The rsquared value is \" + str(anscombe_1_lm.rsquared))\n",
        "fig, ax = plt.subplots(figsize=(12,8))\n",
        "fig = sm.graphics.influence_plot(anscombe_1_lm, ax= ax, criterion=\"cooks\",alpha=0.05)\n",
        "                                     \n",
        "                                     "
      ],
      "execution_count": null,
      "outputs": [
        {
          "output_type": "stream",
          "text": [
            "The rsquared value is 0.6665424595087751\n"
          ],
          "name": "stdout"
        },
        {
          "output_type": "display_data",
          "data": {
            "image/png": "[encoded data removed]",
            "text/plain": [
              "<Figure size 864x576 with 1 Axes>"
            ]
          },
          "metadata": {
            "tags": [],
            "needs_background": "light"
          }
        }
      ]
    },
    {
      "cell_type": "code",
      "metadata": {
        "id": "Gk5aRrXopsoG",
        "outputId": "926fe5b0-6a49-430a-b53b-ffa5ca73fa83"
      },
      "source": [
        "anscombe_2_lm = smf.ols('y ~ x',anscombe_2).fit()\n",
        "print(\"The rsquared value is \" + str(anscombe_2_lm.rsquared))\n",
        "fig, ax = plt.subplots(figsize=(12,8))\n",
        "fig = sm.graphics.influence_plot(anscombe_2_lm, ax= ax, criterion=\"cooks\",alpha=.05)\n",
        "                                     \n",
        "                                     "
      ],
      "execution_count": null,
      "outputs": [
        {
          "output_type": "stream",
          "text": [
            "The rsquared value is 0.6662420337274844\n"
          ],
          "name": "stdout"
        },
        {
          "output_type": "display_data",
          "data": {
            "image/png": "[encoded data removed]",
            "text/plain": [
              "<Figure size 864x576 with 1 Axes>"
            ]
          },
          "metadata": {
            "tags": [],
            "needs_background": "light"
          }
        }
      ]
    },
    {
      "cell_type": "code",
      "metadata": {
        "id": "cVbG-fg7psoI",
        "outputId": "af67bafc-7fa3-433e-e86f-865cb1fbd090"
      },
      "source": [
        "anscombe_3_lm = smf.ols('y ~ x',anscombe_3).fit()\n",
        "print(\"The rsquared value is \" + str(anscombe_3_lm.rsquared))\n",
        "fig, ax = plt.subplots(figsize=(12,8))\n",
        "fig = sm.graphics.influence_plot(anscombe_3_lm, ax= ax, criterion=\"cooks\",alpha=0.05)\n",
        "                                     \n",
        "                                     "
      ],
      "execution_count": null,
      "outputs": [
        {
          "output_type": "stream",
          "text": [
            "The rsquared value is 0.6663240410665592\n"
          ],
          "name": "stdout"
        },
        {
          "output_type": "display_data",
          "data": {
            "image/png": "[encoded data removed]",
            "text/plain": [
              "<Figure size 864x576 with 1 Axes>"
            ]
          },
          "metadata": {
            "tags": [],
            "needs_background": "light"
          }
        }
      ]
    },
    {
      "cell_type": "code",
      "metadata": {
        "id": "WF6KQf3hpsoM",
        "outputId": "914bb8fb-55f5-4406-a882-2b8a832a2db9"
      },
      "source": [
        "anscombe_4.head(10)"
      ],
      "execution_count": null,
      "outputs": [
        {
          "output_type": "execute_result",
          "data": {
            "text/html": [
              "<div>\n",
              "<style scoped>\n",
              "    .dataframe tbody tr th:only-of-type {\n",
              "        vertical-align: middle;\n",
              "    }\n",
              "\n",
              "    .dataframe tbody tr th {\n",
              "        vertical-align: top;\n",
              "    }\n",
              "\n",
              "    .dataframe thead th {\n",
              "        text-align: right;\n",
              "    }\n",
              "</style>\n",
              "<table border=\"1\" class=\"dataframe\">\n",
              "  <thead>\n",
              "    <tr style=\"text-align: right;\">\n",
              "      <th></th>\n",
              "      <th>dataset</th>\n",
              "      <th>x</th>\n",
              "      <th>y</th>\n",
              "    </tr>\n",
              "  </thead>\n",
              "  <tbody>\n",
              "    <tr>\n",
              "      <th>33</th>\n",
              "      <td>IV</td>\n",
              "      <td>8.0</td>\n",
              "      <td>6.58</td>\n",
              "    </tr>\n",
              "    <tr>\n",
              "      <th>34</th>\n",
              "      <td>IV</td>\n",
              "      <td>8.0</td>\n",
              "      <td>5.76</td>\n",
              "    </tr>\n",
              "    <tr>\n",
              "      <th>35</th>\n",
              "      <td>IV</td>\n",
              "      <td>8.0</td>\n",
              "      <td>7.71</td>\n",
              "    </tr>\n",
              "    <tr>\n",
              "      <th>36</th>\n",
              "      <td>IV</td>\n",
              "      <td>8.0</td>\n",
              "      <td>8.84</td>\n",
              "    </tr>\n",
              "    <tr>\n",
              "      <th>37</th>\n",
              "      <td>IV</td>\n",
              "      <td>8.0</td>\n",
              "      <td>8.47</td>\n",
              "    </tr>\n",
              "    <tr>\n",
              "      <th>38</th>\n",
              "      <td>IV</td>\n",
              "      <td>8.0</td>\n",
              "      <td>7.04</td>\n",
              "    </tr>\n",
              "    <tr>\n",
              "      <th>39</th>\n",
              "      <td>IV</td>\n",
              "      <td>8.0</td>\n",
              "      <td>5.25</td>\n",
              "    </tr>\n",
              "    <tr>\n",
              "      <th>40</th>\n",
              "      <td>IV</td>\n",
              "      <td>19.0</td>\n",
              "      <td>12.50</td>\n",
              "    </tr>\n",
              "    <tr>\n",
              "      <th>41</th>\n",
              "      <td>IV</td>\n",
              "      <td>8.0</td>\n",
              "      <td>5.56</td>\n",
              "    </tr>\n",
              "    <tr>\n",
              "      <th>42</th>\n",
              "      <td>IV</td>\n",
              "      <td>8.0</td>\n",
              "      <td>7.91</td>\n",
              "    </tr>\n",
              "  </tbody>\n",
              "</table>\n",
              "</div>"
            ],
            "text/plain": [
              "   dataset     x      y\n",
              "33      IV   8.0   6.58\n",
              "34      IV   8.0   5.76\n",
              "35      IV   8.0   7.71\n",
              "36      IV   8.0   8.84\n",
              "37      IV   8.0   8.47\n",
              "38      IV   8.0   7.04\n",
              "39      IV   8.0   5.25\n",
              "40      IV  19.0  12.50\n",
              "41      IV   8.0   5.56\n",
              "42      IV   8.0   7.91"
            ]
          },
          "metadata": {
            "tags": []
          },
          "execution_count": 101
        }
      ]
    },
    {
      "cell_type": "code",
      "metadata": {
        "id": "HIMlleumpsoO",
        "outputId": "a51bd636-85d3-4491-e6c8-704ae7a4099a"
      },
      "source": [
        "anscombe_4_lm = smf.ols('y ~ x',anscombe_4).fit()\n",
        "print(\"The rsquared value is \" + str(anscombe_4_lm.rsquared))\n",
        "fig, ax = plt.subplots(figsize=(12,8))\n",
        "fig = sm.graphics.influence_plot(anscombe_4_lm, ax= ax, criterion=\"cooks\",alpha=0.05)\n",
        "                                     \n",
        "                                     "
      ],
      "execution_count": null,
      "outputs": [
        {
          "output_type": "stream",
          "text": [
            "The rsquared value is 0.6667072568984653\n"
          ],
          "name": "stdout"
        },
        {
          "output_type": "display_data",
          "data": {
            "image/png": "[encoded data removed]",
            "text/plain": [
              "<Figure size 864x576 with 1 Axes>"
            ]
          },
          "metadata": {
            "tags": [],
            "needs_background": "light"
          }
        }
      ]
    },
    {
      "cell_type": "code",
      "metadata": {
        "id": "A2fxTT5KpsoR",
        "outputId": "9184e062-fd1f-448c-d5e5-61e05df06826"
      },
      "source": [
        "infl = anscombe_3_lm.get_influence()\n",
        "sm_fr = infl.summary_frame()\n",
        "sm_fr"
      ],
      "execution_count": null,
      "outputs": [
        {
          "output_type": "execute_result",
          "data": {
            "text/html": [
              "<div>\n",
              "<style scoped>\n",
              "    .dataframe tbody tr th:only-of-type {\n",
              "        vertical-align: middle;\n",
              "    }\n",
              "\n",
              "    .dataframe tbody tr th {\n",
              "        vertical-align: top;\n",
              "    }\n",
              "\n",
              "    .dataframe thead th {\n",
              "        text-align: right;\n",
              "    }\n",
              "</style>\n",
              "<table border=\"1\" class=\"dataframe\">\n",
              "  <thead>\n",
              "    <tr style=\"text-align: right;\">\n",
              "      <th></th>\n",
              "      <th>dfb_Intercept</th>\n",
              "      <th>dfb_x</th>\n",
              "      <th>cooks_d</th>\n",
              "      <th>standard_resid</th>\n",
              "      <th>hat_diag</th>\n",
              "      <th>dffits_internal</th>\n",
              "      <th>student_resid</th>\n",
              "      <th>dffits</th>\n",
              "    </tr>\n",
              "  </thead>\n",
              "  <tbody>\n",
              "    <tr>\n",
              "      <th>22</th>\n",
              "      <td>-0.004626</td>\n",
              "      <td>-4.412673e-02</td>\n",
              "      <td>0.011765</td>\n",
              "      <td>-0.460177</td>\n",
              "      <td>0.100000</td>\n",
              "      <td>-0.153392</td>\n",
              "      <td>-0.439055</td>\n",
              "      <td>-0.146352</td>\n",
              "    </tr>\n",
              "    <tr>\n",
              "      <th>23</th>\n",
              "      <td>-0.037133</td>\n",
              "      <td>1.864368e-02</td>\n",
              "      <td>0.002141</td>\n",
              "      <td>-0.196333</td>\n",
              "      <td>0.100000</td>\n",
              "      <td>-0.065444</td>\n",
              "      <td>-0.185502</td>\n",
              "      <td>-0.061834</td>\n",
              "    </tr>\n",
              "    <tr>\n",
              "      <th>24</th>\n",
              "      <td>-357.909597</td>\n",
              "      <td>5.252677e+02</td>\n",
              "      <td>1.392849</td>\n",
              "      <td>2.999992</td>\n",
              "      <td>0.236364</td>\n",
              "      <td>1.669041</td>\n",
              "      <td>1203.539464</td>\n",
              "      <td>669.587544</td>\n",
              "    </tr>\n",
              "    <tr>\n",
              "      <th>25</th>\n",
              "      <td>-0.032900</td>\n",
              "      <td>-1.340142e-15</td>\n",
              "      <td>0.005473</td>\n",
              "      <td>-0.330851</td>\n",
              "      <td>0.090909</td>\n",
              "      <td>-0.104624</td>\n",
              "      <td>-0.313844</td>\n",
              "      <td>-0.099246</td>\n",
              "    </tr>\n",
              "    <tr>\n",
              "      <th>26</th>\n",
              "      <td>0.049155</td>\n",
              "      <td>-1.172274e-01</td>\n",
              "      <td>0.025984</td>\n",
              "      <td>-0.596951</td>\n",
              "      <td>0.127273</td>\n",
              "      <td>-0.227964</td>\n",
              "      <td>-0.574295</td>\n",
              "      <td>-0.219312</td>\n",
              "    </tr>\n",
              "    <tr>\n",
              "      <th>27</th>\n",
              "      <td>0.489742</td>\n",
              "      <td>-6.674064e-01</td>\n",
              "      <td>0.300571</td>\n",
              "      <td>-1.134972</td>\n",
              "      <td>0.318182</td>\n",
              "      <td>-0.775333</td>\n",
              "      <td>-1.155982</td>\n",
              "      <td>-0.789686</td>\n",
              "    </tr>\n",
              "    <tr>\n",
              "      <th>28</th>\n",
              "      <td>0.027001</td>\n",
              "      <td>-2.088417e-02</td>\n",
              "      <td>0.000518</td>\n",
              "      <td>0.070416</td>\n",
              "      <td>0.172727</td>\n",
              "      <td>0.032176</td>\n",
              "      <td>0.066407</td>\n",
              "      <td>0.030344</td>\n",
              "    </tr>\n",
              "    <tr>\n",
              "      <th>29</th>\n",
              "      <td>0.240903</td>\n",
              "      <td>-2.089150e-01</td>\n",
              "      <td>0.033817</td>\n",
              "      <td>0.380699</td>\n",
              "      <td>0.318182</td>\n",
              "      <td>0.260067</td>\n",
              "      <td>0.361851</td>\n",
              "      <td>0.247192</td>\n",
              "    </tr>\n",
              "    <tr>\n",
              "      <th>30</th>\n",
              "      <td>0.137434</td>\n",
              "      <td>-2.313597e-01</td>\n",
              "      <td>0.059536</td>\n",
              "      <td>-0.755177</td>\n",
              "      <td>0.172727</td>\n",
              "      <td>-0.345068</td>\n",
              "      <td>-0.735677</td>\n",
              "      <td>-0.336158</td>\n",
              "    </tr>\n",
              "    <tr>\n",
              "      <th>31</th>\n",
              "      <td>-0.019702</td>\n",
              "      <td>1.342485e-02</td>\n",
              "      <td>0.000355</td>\n",
              "      <td>-0.069739</td>\n",
              "      <td>0.127273</td>\n",
              "      <td>-0.026632</td>\n",
              "      <td>-0.065768</td>\n",
              "      <td>-0.025116</td>\n",
              "    </tr>\n",
              "    <tr>\n",
              "      <th>32</th>\n",
              "      <td>0.105366</td>\n",
              "      <td>-8.740210e-02</td>\n",
              "      <td>0.006948</td>\n",
              "      <td>0.211881</td>\n",
              "      <td>0.236364</td>\n",
              "      <td>0.117880</td>\n",
              "      <td>0.200263</td>\n",
              "      <td>0.111416</td>\n",
              "    </tr>\n",
              "  </tbody>\n",
              "</table>\n",
              "</div>"
            ],
            "text/plain": [
              "    dfb_Intercept         dfb_x   cooks_d  standard_resid  hat_diag  \\\n",
              "22      -0.004626 -4.412673e-02  0.011765       -0.460177  0.100000   \n",
              "23      -0.037133  1.864368e-02  0.002141       -0.196333  0.100000   \n",
              "24    -357.909597  5.252677e+02  1.392849        2.999992  0.236364   \n",
              "25      -0.032900 -1.340142e-15  0.005473       -0.330851  0.090909   \n",
              "26       0.049155 -1.172274e-01  0.025984       -0.596951  0.127273   \n",
              "27       0.489742 -6.674064e-01  0.300571       -1.134972  0.318182   \n",
              "28       0.027001 -2.088417e-02  0.000518        0.070416  0.172727   \n",
              "29       0.240903 -2.089150e-01  0.033817        0.380699  0.318182   \n",
              "30       0.137434 -2.313597e-01  0.059536       -0.755177  0.172727   \n",
              "31      -0.019702  1.342485e-02  0.000355       -0.069739  0.127273   \n",
              "32       0.105366 -8.740210e-02  0.006948        0.211881  0.236364   \n",
              "\n",
              "    dffits_internal  student_resid      dffits  \n",
              "22        -0.153392      -0.439055   -0.146352  \n",
              "23        -0.065444      -0.185502   -0.061834  \n",
              "24         1.669041    1203.539464  669.587544  \n",
              "25        -0.104624      -0.313844   -0.099246  \n",
              "26        -0.227964      -0.574295   -0.219312  \n",
              "27        -0.775333      -1.155982   -0.789686  \n",
              "28         0.032176       0.066407    0.030344  \n",
              "29         0.260067       0.361851    0.247192  \n",
              "30        -0.345068      -0.735677   -0.336158  \n",
              "31        -0.026632      -0.065768   -0.025116  \n",
              "32         0.117880       0.200263    0.111416  "
            ]
          },
          "metadata": {
            "tags": []
          },
          "execution_count": 103
        }
      ]
    },
    {
      "cell_type": "markdown",
      "metadata": {
        "id": "PcX47YgppsoT"
      },
      "source": [
        "We can also extract the Cook's Distance values and their associated p-values from the influence object:"
      ]
    },
    {
      "cell_type": "code",
      "metadata": {
        "id": "oH3pvofMpsoU"
      },
      "source": [
        "c,p = infl.cooks_distance"
      ],
      "execution_count": null,
      "outputs": []
    },
    {
      "cell_type": "markdown",
      "metadata": {
        "id": "YKCTXVtypsoX"
      },
      "source": [
        "and create a DataFrame with the results"
      ]
    },
    {
      "cell_type": "code",
      "metadata": {
        "id": "T_N-PhsTpsoX",
        "outputId": "7a72edb3-72a7-45b0-d48f-6c89a0a0280e"
      },
      "source": [
        "df = pd.DataFrame.from_dict({'cooks_distance':c,'pvalue':p})\n",
        "df"
      ],
      "execution_count": null,
      "outputs": [
        {
          "output_type": "execute_result",
          "data": {
            "text/html": [
              "<div>\n",
              "<style scoped>\n",
              "    .dataframe tbody tr th:only-of-type {\n",
              "        vertical-align: middle;\n",
              "    }\n",
              "\n",
              "    .dataframe tbody tr th {\n",
              "        vertical-align: top;\n",
              "    }\n",
              "\n",
              "    .dataframe thead th {\n",
              "        text-align: right;\n",
              "    }\n",
              "</style>\n",
              "<table border=\"1\" class=\"dataframe\">\n",
              "  <thead>\n",
              "    <tr style=\"text-align: right;\">\n",
              "      <th></th>\n",
              "      <th>cooks_distance</th>\n",
              "      <th>pvalue</th>\n",
              "    </tr>\n",
              "  </thead>\n",
              "  <tbody>\n",
              "    <tr>\n",
              "      <th>0</th>\n",
              "      <td>0.011765</td>\n",
              "      <td>0.988319</td>\n",
              "    </tr>\n",
              "    <tr>\n",
              "      <th>1</th>\n",
              "      <td>0.002141</td>\n",
              "      <td>0.997861</td>\n",
              "    </tr>\n",
              "    <tr>\n",
              "      <th>2</th>\n",
              "      <td>1.392849</td>\n",
              "      <td>0.297161</td>\n",
              "    </tr>\n",
              "    <tr>\n",
              "      <th>3</th>\n",
              "      <td>0.005473</td>\n",
              "      <td>0.994545</td>\n",
              "    </tr>\n",
              "    <tr>\n",
              "      <th>4</th>\n",
              "      <td>0.025984</td>\n",
              "      <td>0.974424</td>\n",
              "    </tr>\n",
              "    <tr>\n",
              "      <th>5</th>\n",
              "      <td>0.300571</td>\n",
              "      <td>0.747547</td>\n",
              "    </tr>\n",
              "    <tr>\n",
              "      <th>6</th>\n",
              "      <td>0.000518</td>\n",
              "      <td>0.999483</td>\n",
              "    </tr>\n",
              "    <tr>\n",
              "      <th>7</th>\n",
              "      <td>0.033817</td>\n",
              "      <td>0.966870</td>\n",
              "    </tr>\n",
              "    <tr>\n",
              "      <th>8</th>\n",
              "      <td>0.059536</td>\n",
              "      <td>0.942570</td>\n",
              "    </tr>\n",
              "    <tr>\n",
              "      <th>9</th>\n",
              "      <td>0.000355</td>\n",
              "      <td>0.999645</td>\n",
              "    </tr>\n",
              "    <tr>\n",
              "      <th>10</th>\n",
              "      <td>0.006948</td>\n",
              "      <td>0.993082</td>\n",
              "    </tr>\n",
              "  </tbody>\n",
              "</table>\n",
              "</div>"
            ],
            "text/plain": [
              "    cooks_distance    pvalue\n",
              "0         0.011765  0.988319\n",
              "1         0.002141  0.997861\n",
              "2         1.392849  0.297161\n",
              "3         0.005473  0.994545\n",
              "4         0.025984  0.974424\n",
              "5         0.300571  0.747547\n",
              "6         0.000518  0.999483\n",
              "7         0.033817  0.966870\n",
              "8         0.059536  0.942570\n",
              "9         0.000355  0.999645\n",
              "10        0.006948  0.993082"
            ]
          },
          "metadata": {
            "tags": []
          },
          "execution_count": 105
        }
      ]
    },
    {
      "cell_type": "markdown",
      "metadata": {
        "id": "rYHyoij8psob"
      },
      "source": [
        "Note that we could sort the above in various, helpful ways."
      ]
    },
    {
      "cell_type": "markdown",
      "metadata": {
        "id": "5KblH-u1psob"
      },
      "source": [
        "### Q4: Create an influence plot for the regression of \"total sulfur dioxide\" vs. \"free sulfur dioxide\".  \n",
        "\n",
        "Visually identify outliers.\n",
        "\n"
      ]
    },
    {
      "cell_type": "code",
      "metadata": {
        "id": "I4ZlJFrGpsoc",
        "outputId": "43cac4a5-8f83-4534-ffa4-325fc5ab04ce"
      },
      "source": [
        "fig, ax = plt.subplots(figsize=(12,8))\n",
        "fig = sm.graphics.influence_plot(model2, ax=ax, criterion=\"Cooks\",alpha=0.0000005)"
      ],
      "execution_count": null,
      "outputs": [
        {
          "output_type": "display_data",
          "data": {
            "image/png": "[encoded data removed]",
            "text/plain": [
              "<Figure size 864x576 with 1 Axes>"
            ]
          },
          "metadata": {
            "tags": [],
            "needs_background": "light"
          }
        }
      ]
    },
    {
      "cell_type": "markdown",
      "metadata": {
        "id": "YkhL6eORpsoe"
      },
      "source": [
        "### Q5: How many influence points are there, according to statistically significant Cook's distances?\n"
      ]
    },
    {
      "cell_type": "code",
      "metadata": {
        "id": "HRguO-b-psof",
        "outputId": "e461ce6a-fa01-4c4a-c9b3-1e22bcf1144c"
      },
      "source": [
        "infl = model2.get_influence()\n",
        "sm_fr = infl.summary_frame()\n",
        "sm_fr\n"
      ],
      "execution_count": null,
      "outputs": [
        {
          "output_type": "execute_result",
          "data": {
            "text/html": [
              "<div>\n",
              "<style scoped>\n",
              "    .dataframe tbody tr th:only-of-type {\n",
              "        vertical-align: middle;\n",
              "    }\n",
              "\n",
              "    .dataframe tbody tr th {\n",
              "        vertical-align: top;\n",
              "    }\n",
              "\n",
              "    .dataframe thead th {\n",
              "        text-align: right;\n",
              "    }\n",
              "</style>\n",
              "<table border=\"1\" class=\"dataframe\">\n",
              "  <thead>\n",
              "    <tr style=\"text-align: right;\">\n",
              "      <th></th>\n",
              "      <th>dfb_Intercept</th>\n",
              "      <th>dfb_Q('free sulfur dioxide')</th>\n",
              "      <th>cooks_d</th>\n",
              "      <th>standard_resid</th>\n",
              "      <th>hat_diag</th>\n",
              "      <th>dffits_internal</th>\n",
              "      <th>student_resid</th>\n",
              "      <th>dffits</th>\n",
              "    </tr>\n",
              "  </thead>\n",
              "  <tbody>\n",
              "    <tr>\n",
              "      <th>0</th>\n",
              "      <td>-0.002141</td>\n",
              "      <td>0.001063</td>\n",
              "      <td>0.000003</td>\n",
              "      <td>-0.091146</td>\n",
              "      <td>0.000761</td>\n",
              "      <td>-0.002516</td>\n",
              "      <td>-0.091118</td>\n",
              "      <td>-0.002515</td>\n",
              "    </tr>\n",
              "    <tr>\n",
              "      <th>1</th>\n",
              "      <td>-0.000250</td>\n",
              "      <td>0.001224</td>\n",
              "      <td>0.000002</td>\n",
              "      <td>0.056052</td>\n",
              "      <td>0.001102</td>\n",
              "      <td>0.001861</td>\n",
              "      <td>0.056035</td>\n",
              "      <td>0.001861</td>\n",
              "    </tr>\n",
              "    <tr>\n",
              "      <th>2</th>\n",
              "      <td>0.005932</td>\n",
              "      <td>-0.000801</td>\n",
              "      <td>0.000046</td>\n",
              "      <td>0.382588</td>\n",
              "      <td>0.000630</td>\n",
              "      <td>0.009604</td>\n",
              "      <td>0.382485</td>\n",
              "      <td>0.009602</td>\n",
              "    </tr>\n",
              "    <tr>\n",
              "      <th>3</th>\n",
              "      <td>0.005250</td>\n",
              "      <td>0.001227</td>\n",
              "      <td>0.000066</td>\n",
              "      <td>0.456115</td>\n",
              "      <td>0.000633</td>\n",
              "      <td>0.011476</td>\n",
              "      <td>0.456002</td>\n",
              "      <td>0.011473</td>\n",
              "    </tr>\n",
              "    <tr>\n",
              "      <th>4</th>\n",
              "      <td>-0.002141</td>\n",
              "      <td>0.001063</td>\n",
              "      <td>0.000003</td>\n",
              "      <td>-0.091146</td>\n",
              "      <td>0.000761</td>\n",
              "      <td>-0.002516</td>\n",
              "      <td>-0.091118</td>\n",
              "      <td>-0.002515</td>\n",
              "    </tr>\n",
              "    <tr>\n",
              "      <th>...</th>\n",
              "      <td>...</td>\n",
              "      <td>...</td>\n",
              "      <td>...</td>\n",
              "      <td>...</td>\n",
              "      <td>...</td>\n",
              "      <td>...</td>\n",
              "      <td>...</td>\n",
              "      <td>...</td>\n",
              "    </tr>\n",
              "    <tr>\n",
              "      <th>1594</th>\n",
              "      <td>0.027424</td>\n",
              "      <td>-0.057327</td>\n",
              "      <td>0.002332</td>\n",
              "      <td>-1.484427</td>\n",
              "      <td>0.002113</td>\n",
              "      <td>-0.068300</td>\n",
              "      <td>-1.484987</td>\n",
              "      <td>-0.068326</td>\n",
              "    </tr>\n",
              "    <tr>\n",
              "      <th>1595</th>\n",
              "      <td>0.058533</td>\n",
              "      <td>-0.099824</td>\n",
              "      <td>0.005993</td>\n",
              "      <td>-1.800414</td>\n",
              "      <td>0.003684</td>\n",
              "      <td>-0.109479</td>\n",
              "      <td>-1.801680</td>\n",
              "      <td>-0.109556</td>\n",
              "    </tr>\n",
              "    <tr>\n",
              "      <th>1596</th>\n",
              "      <td>0.017335</td>\n",
              "      <td>-0.043682</td>\n",
              "      <td>0.001559</td>\n",
              "      <td>-1.390127</td>\n",
              "      <td>0.001611</td>\n",
              "      <td>-0.055835</td>\n",
              "      <td>-1.390533</td>\n",
              "      <td>-0.055851</td>\n",
              "    </tr>\n",
              "    <tr>\n",
              "      <th>1597</th>\n",
              "      <td>0.027424</td>\n",
              "      <td>-0.057327</td>\n",
              "      <td>0.002332</td>\n",
              "      <td>-1.484427</td>\n",
              "      <td>0.002113</td>\n",
              "      <td>-0.068300</td>\n",
              "      <td>-1.484987</td>\n",
              "      <td>-0.068326</td>\n",
              "    </tr>\n",
              "    <tr>\n",
              "      <th>1598</th>\n",
              "      <td>-0.003469</td>\n",
              "      <td>-0.001853</td>\n",
              "      <td>0.000043</td>\n",
              "      <td>-0.364646</td>\n",
              "      <td>0.000651</td>\n",
              "      <td>-0.009308</td>\n",
              "      <td>-0.364547</td>\n",
              "      <td>-0.009306</td>\n",
              "    </tr>\n",
              "  </tbody>\n",
              "</table>\n",
              "<p>1599 rows × 8 columns</p>\n",
              "</div>"
            ],
            "text/plain": [
              "      dfb_Intercept  dfb_Q('free sulfur dioxide')   cooks_d  standard_resid  \\\n",
              "0         -0.002141                      0.001063  0.000003       -0.091146   \n",
              "1         -0.000250                      0.001224  0.000002        0.056052   \n",
              "2          0.005932                     -0.000801  0.000046        0.382588   \n",
              "3          0.005250                      0.001227  0.000066        0.456115   \n",
              "4         -0.002141                      0.001063  0.000003       -0.091146   \n",
              "...             ...                           ...       ...             ...   \n",
              "1594       0.027424                     -0.057327  0.002332       -1.484427   \n",
              "1595       0.058533                     -0.099824  0.005993       -1.800414   \n",
              "1596       0.017335                     -0.043682  0.001559       -1.390127   \n",
              "1597       0.027424                     -0.057327  0.002332       -1.484427   \n",
              "1598      -0.003469                     -0.001853  0.000043       -0.364646   \n",
              "\n",
              "      hat_diag  dffits_internal  student_resid    dffits  \n",
              "0     0.000761        -0.002516      -0.091118 -0.002515  \n",
              "1     0.001102         0.001861       0.056035  0.001861  \n",
              "2     0.000630         0.009604       0.382485  0.009602  \n",
              "3     0.000633         0.011476       0.456002  0.011473  \n",
              "4     0.000761        -0.002516      -0.091118 -0.002515  \n",
              "...        ...              ...            ...       ...  \n",
              "1594  0.002113        -0.068300      -1.484987 -0.068326  \n",
              "1595  0.003684        -0.109479      -1.801680 -0.109556  \n",
              "1596  0.001611        -0.055835      -1.390533 -0.055851  \n",
              "1597  0.002113        -0.068300      -1.484987 -0.068326  \n",
              "1598  0.000651        -0.009308      -0.364547 -0.009306  \n",
              "\n",
              "[1599 rows x 8 columns]"
            ]
          },
          "metadata": {
            "tags": []
          },
          "execution_count": 44
        }
      ]
    },
    {
      "cell_type": "code",
      "metadata": {
        "id": "vHbOgnHPpsoi",
        "outputId": "1a1a223d-ed80-4900-fec2-fac7915d6bd2"
      },
      "source": [
        "p,c = infl.cooks_distance\n",
        "df = pd.DataFrame.from_dict({'cooks_distance':c,'pvalue':p})\n",
        "df"
      ],
      "execution_count": null,
      "outputs": [
        {
          "output_type": "execute_result",
          "data": {
            "text/html": [
              "<div>\n",
              "<style scoped>\n",
              "    .dataframe tbody tr th:only-of-type {\n",
              "        vertical-align: middle;\n",
              "    }\n",
              "\n",
              "    .dataframe tbody tr th {\n",
              "        vertical-align: top;\n",
              "    }\n",
              "\n",
              "    .dataframe thead th {\n",
              "        text-align: right;\n",
              "    }\n",
              "</style>\n",
              "<table border=\"1\" class=\"dataframe\">\n",
              "  <thead>\n",
              "    <tr style=\"text-align: right;\">\n",
              "      <th></th>\n",
              "      <th>cooks_distance</th>\n",
              "      <th>pvalue</th>\n",
              "    </tr>\n",
              "  </thead>\n",
              "  <tbody>\n",
              "    <tr>\n",
              "      <th>0</th>\n",
              "      <td>0.999997</td>\n",
              "      <td>0.000003</td>\n",
              "    </tr>\n",
              "    <tr>\n",
              "      <th>1</th>\n",
              "      <td>0.999998</td>\n",
              "      <td>0.000002</td>\n",
              "    </tr>\n",
              "    <tr>\n",
              "      <th>2</th>\n",
              "      <td>0.999954</td>\n",
              "      <td>0.000046</td>\n",
              "    </tr>\n",
              "    <tr>\n",
              "      <th>3</th>\n",
              "      <td>0.999934</td>\n",
              "      <td>0.000066</td>\n",
              "    </tr>\n",
              "    <tr>\n",
              "      <th>4</th>\n",
              "      <td>0.999997</td>\n",
              "      <td>0.000003</td>\n",
              "    </tr>\n",
              "    <tr>\n",
              "      <th>...</th>\n",
              "      <td>...</td>\n",
              "      <td>...</td>\n",
              "    </tr>\n",
              "    <tr>\n",
              "      <th>1594</th>\n",
              "      <td>0.997670</td>\n",
              "      <td>0.002332</td>\n",
              "    </tr>\n",
              "    <tr>\n",
              "      <th>1595</th>\n",
              "      <td>0.994025</td>\n",
              "      <td>0.005993</td>\n",
              "    </tr>\n",
              "    <tr>\n",
              "      <th>1596</th>\n",
              "      <td>0.998442</td>\n",
              "      <td>0.001559</td>\n",
              "    </tr>\n",
              "    <tr>\n",
              "      <th>1597</th>\n",
              "      <td>0.997670</td>\n",
              "      <td>0.002332</td>\n",
              "    </tr>\n",
              "    <tr>\n",
              "      <th>1598</th>\n",
              "      <td>0.999957</td>\n",
              "      <td>0.000043</td>\n",
              "    </tr>\n",
              "  </tbody>\n",
              "</table>\n",
              "<p>1599 rows × 2 columns</p>\n",
              "</div>"
            ],
            "text/plain": [
              "      cooks_distance    pvalue\n",
              "0           0.999997  0.000003\n",
              "1           0.999998  0.000002\n",
              "2           0.999954  0.000046\n",
              "3           0.999934  0.000066\n",
              "4           0.999997  0.000003\n",
              "...              ...       ...\n",
              "1594        0.997670  0.002332\n",
              "1595        0.994025  0.005993\n",
              "1596        0.998442  0.001559\n",
              "1597        0.997670  0.002332\n",
              "1598        0.999957  0.000043\n",
              "\n",
              "[1599 rows x 2 columns]"
            ]
          },
          "metadata": {
            "tags": []
          },
          "execution_count": 45
        }
      ]
    },
    {
      "cell_type": "markdown",
      "metadata": {
        "id": "Wnd7PxmIpson"
      },
      "source": [
        "Insert your answer here."
      ]
    },
    {
      "cell_type": "code",
      "metadata": {
        "id": "LfQRPKlepson",
        "outputId": "3e1b17b7-96cb-47be-ac62-bf6d5a3dee94"
      },
      "source": [
        "df.sort_values('cooks_distance')"
      ],
      "execution_count": null,
      "outputs": [
        {
          "output_type": "execute_result",
          "data": {
            "text/html": [
              "<div>\n",
              "<style scoped>\n",
              "    .dataframe tbody tr th:only-of-type {\n",
              "        vertical-align: middle;\n",
              "    }\n",
              "\n",
              "    .dataframe tbody tr th {\n",
              "        vertical-align: top;\n",
              "    }\n",
              "\n",
              "    .dataframe thead th {\n",
              "        text-align: right;\n",
              "    }\n",
              "</style>\n",
              "<table border=\"1\" class=\"dataframe\">\n",
              "  <thead>\n",
              "    <tr style=\"text-align: right;\">\n",
              "      <th></th>\n",
              "      <th>cooks_distance</th>\n",
              "      <th>pvalue</th>\n",
              "    </tr>\n",
              "  </thead>\n",
              "  <tbody>\n",
              "    <tr>\n",
              "      <th>1081</th>\n",
              "      <td>0.898036</td>\n",
              "      <td>1.075528e-01</td>\n",
              "    </tr>\n",
              "    <tr>\n",
              "      <th>1079</th>\n",
              "      <td>0.908574</td>\n",
              "      <td>9.588442e-02</td>\n",
              "    </tr>\n",
              "    <tr>\n",
              "      <th>1154</th>\n",
              "      <td>0.981459</td>\n",
              "      <td>1.871485e-02</td>\n",
              "    </tr>\n",
              "    <tr>\n",
              "      <th>1558</th>\n",
              "      <td>0.982791</td>\n",
              "      <td>1.735861e-02</td>\n",
              "    </tr>\n",
              "    <tr>\n",
              "      <th>926</th>\n",
              "      <td>0.983476</td>\n",
              "      <td>1.666267e-02</td>\n",
              "    </tr>\n",
              "    <tr>\n",
              "      <th>...</th>\n",
              "      <td>...</td>\n",
              "      <td>...</td>\n",
              "    </tr>\n",
              "    <tr>\n",
              "      <th>194</th>\n",
              "      <td>1.000000</td>\n",
              "      <td>2.499602e-08</td>\n",
              "    </tr>\n",
              "    <tr>\n",
              "      <th>193</th>\n",
              "      <td>1.000000</td>\n",
              "      <td>2.499602e-08</td>\n",
              "    </tr>\n",
              "    <tr>\n",
              "      <th>117</th>\n",
              "      <td>1.000000</td>\n",
              "      <td>2.499602e-08</td>\n",
              "    </tr>\n",
              "    <tr>\n",
              "      <th>816</th>\n",
              "      <td>1.000000</td>\n",
              "      <td>3.685543e-09</td>\n",
              "    </tr>\n",
              "    <tr>\n",
              "      <th>622</th>\n",
              "      <td>1.000000</td>\n",
              "      <td>7.934061e-10</td>\n",
              "    </tr>\n",
              "  </tbody>\n",
              "</table>\n",
              "<p>1599 rows × 2 columns</p>\n",
              "</div>"
            ],
            "text/plain": [
              "      cooks_distance        pvalue\n",
              "1081        0.898036  1.075528e-01\n",
              "1079        0.908574  9.588442e-02\n",
              "1154        0.981459  1.871485e-02\n",
              "1558        0.982791  1.735861e-02\n",
              "926         0.983476  1.666267e-02\n",
              "...              ...           ...\n",
              "194         1.000000  2.499602e-08\n",
              "193         1.000000  2.499602e-08\n",
              "117         1.000000  2.499602e-08\n",
              "816         1.000000  3.685543e-09\n",
              "622         1.000000  7.934061e-10\n",
              "\n",
              "[1599 rows x 2 columns]"
            ]
          },
          "metadata": {
            "tags": []
          },
          "execution_count": 46
        }
      ]
    },
    {
      "cell_type": "code",
      "metadata": {
        "id": "I-mLMN3xpsor"
      },
      "source": [
        ""
      ],
      "execution_count": null,
      "outputs": []
    }
  ]
}