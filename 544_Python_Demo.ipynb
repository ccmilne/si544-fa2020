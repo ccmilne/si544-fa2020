{
 "cells": [
  {
   "cell_type": "markdown",
   "metadata": {
    "id": "lZz_ujXZpsm9"
   },
   "source": [
    "# SI 544: Python for Statistical Analysis \n",
    "version 201112.1\n",
    "\n"
   ]
  },
  {
   "cell_type": "code",
   "execution_count": null,
   "metadata": {
    "id": "iVlmWUvQpsm-"
   },
   "outputs": [],
   "source": [
    "import warnings\n",
    "warnings.filterwarnings('ignore')"
   ]
  },
  {
   "cell_type": "code",
   "execution_count": null,
   "metadata": {
    "id": "kILKMWnppsnD"
   },
   "outputs": [],
   "source": [
    "import pandas as pd\n",
    "import seaborn as sns\n",
    "import numpy as np\n",
    "import matplotlib.pyplot as plt"
   ]
  },
  {
   "cell_type": "code",
   "execution_count": null,
   "metadata": {
    "colab": {
     "base_uri": "https://localhost:8080/",
     "height": 195
    },
    "id": "sx11zvH1psnF",
    "outputId": "33d76695-d1d7-4950-eaec-44e08a0a9e0f",
    "scrolled": true
   },
   "outputs": [],
   "source": [
    "evals = pd.read_csv('https://raw.githubusercontent.com/umsi-data-science/data/main/evals.csv')\n",
    "evals.head()"
   ]
  },
  {
   "cell_type": "code",
   "execution_count": null,
   "metadata": {
    "id": "g_ccBGbzpsnJ"
   },
   "outputs": [],
   "source": [
    "evals = evals[['score','age','bty_avg']]"
   ]
  },
  {
   "cell_type": "code",
   "execution_count": null,
   "metadata": {
    "colab": {
     "base_uri": "https://localhost:8080/",
     "height": 297
    },
    "id": "4CNLMH1ttw-v",
    "outputId": "bb6c71e5-dbc0-41dc-8ba6-959eff3ffc32"
   },
   "outputs": [],
   "source": [
    "sns.scatterplot(data=evals, x='bty_avg', y='score')"
   ]
  },
  {
   "cell_type": "code",
   "execution_count": null,
   "metadata": {
    "colab": {
     "base_uri": "https://localhost:8080/",
     "height": 567
    },
    "id": "pzSs_Y42psnM",
    "outputId": "7ea79844-5c8f-4976-9390-4d3364ee55b9"
   },
   "outputs": [],
   "source": [
    "sns.pairplot(evals)"
   ]
  },
  {
   "cell_type": "code",
   "execution_count": null,
   "metadata": {
    "colab": {
     "base_uri": "https://localhost:8080/",
     "height": 136
    },
    "id": "U0mNrt3bpsnP",
    "outputId": "34b46a21-d1c7-48e6-e8e3-d4e50c8c6c10"
   },
   "outputs": [],
   "source": [
    "# to calculate all possible correlation coefficients in a dataframe\n",
    "evals.corr()"
   ]
  },
  {
   "cell_type": "markdown",
   "metadata": {
    "id": "tXJqQDDGpsnS"
   },
   "source": [
    "A heatmap is a really useful visualization technique for large correlation matrices (less so for small correlation matrices:"
   ]
  },
  {
   "cell_type": "code",
   "execution_count": null,
   "metadata": {
    "colab": {
     "base_uri": "https://localhost:8080/",
     "height": 287
    },
    "id": "IUwYGPN-psnS",
    "outputId": "9c2aaf78-f983-4704-aa7c-15082020c535"
   },
   "outputs": [],
   "source": [
    "sns.heatmap(evals.corr())"
   ]
  },
  {
   "cell_type": "markdown",
   "metadata": {
    "id": "4aSUmi-GpsnV"
   },
   "source": [
    "We can also use a different type of color palette to highlight the differences:"
   ]
  },
  {
   "cell_type": "code",
   "execution_count": null,
   "metadata": {
    "colab": {
     "base_uri": "https://localhost:8080/",
     "height": 287
    },
    "id": "D9LTluOZpsnW",
    "outputId": "99bf222c-d23b-4376-ee06-9e9fc082d456"
   },
   "outputs": [],
   "source": [
    "sns.heatmap(evals.corr(),cmap=sns.color_palette(\"BrBG\"))"
   ]
  },
  {
   "cell_type": "markdown",
   "metadata": {
    "id": "1JnbtZdhpsnY"
   },
   "source": [
    "We can also create a more complex visualization that incorporates\n",
    "histograms of each variable as well as a scatterplot with a\n",
    "regression line including confidence intervals."
   ]
  },
  {
   "cell_type": "code",
   "execution_count": null,
   "metadata": {
    "colab": {
     "base_uri": "https://localhost:8080/",
     "height": 441
    },
    "id": "7FQ5YAr6psnZ",
    "outputId": "c9e18f2e-3b12-4cc5-c36b-bdca4fc960ec"
   },
   "outputs": [],
   "source": [
    "g = sns.JointGrid(data=evals,x='bty_avg',y='score')\n",
    "g = g.plot(sns.regplot, sns.histplot)"
   ]
  },
  {
   "cell_type": "markdown",
   "metadata": {
    "id": "6FyOXTsgU2ui"
   },
   "source": [
    "## Ordinary Least Squares (OLS) Regression"
   ]
  },
  {
   "cell_type": "code",
   "execution_count": null,
   "metadata": {
    "id": "1JuuPtlTU2ui"
   },
   "outputs": [],
   "source": [
    "import statsmodels.api as sm\n",
    "import statsmodels.formula.api as smf"
   ]
  },
  {
   "cell_type": "markdown",
   "metadata": {
    "id": "ATYDr80MU2uk"
   },
   "source": [
    "statsmodels uses R-Style formulas: y ~ x1 + x2 + x3 + ...\n",
    "\n",
    "1. y represents the outcome/dependent variable\n",
    "2. x1, x2, x3, etc represent explanatory/independent variables "
   ]
  },
  {
   "cell_type": "code",
   "execution_count": null,
   "metadata": {
    "colab": {
     "base_uri": "https://localhost:8080/",
     "height": 426
    },
    "id": "Aquyw2dgpsnf",
    "outputId": "26df6e88-9c5b-4a6e-e495-686308b685ae",
    "scrolled": false
   },
   "outputs": [],
   "source": [
    "model0 = smf.ols(\"score ~ bty_avg\", data=evals).fit()\n",
    "model0.summary()"
   ]
  },
  {
   "cell_type": "markdown",
   "metadata": {
    "id": "ZKxTESP-tOMo"
   },
   "source": [
    "We can take a look at the residuals:"
   ]
  },
  {
   "cell_type": "code",
   "execution_count": null,
   "metadata": {
    "colab": {
     "base_uri": "https://localhost:8080/"
    },
    "id": "_v0E-wuPqBh7",
    "outputId": "e4da93a5-4f42-4def-c6ab-f4b71498740a"
   },
   "outputs": [],
   "source": [
    "model0.resid"
   ]
  },
  {
   "cell_type": "markdown",
   "metadata": {
    "id": "JydWaDFltaJG"
   },
   "source": [
    "And create a histogram:"
   ]
  },
  {
   "cell_type": "code",
   "execution_count": null,
   "metadata": {
    "colab": {
     "base_uri": "https://localhost:8080/",
     "height": 265
    },
    "id": "1LjAZ0AIpsnj",
    "outputId": "91519fda-122c-404a-e69f-9b780fefc201",
    "scrolled": false
   },
   "outputs": [],
   "source": [
    "sns.histplot(model0.resid)"
   ]
  },
  {
   "cell_type": "markdown",
   "metadata": {
    "id": "W_ga0Nh2teup"
   },
   "source": [
    "We can also look at a scatterplot of residuals vs. bty_score"
   ]
  },
  {
   "cell_type": "code",
   "execution_count": null,
   "metadata": {
    "colab": {
     "base_uri": "https://localhost:8080/",
     "height": 280
    },
    "id": "L7x7_Yt6psnm",
    "outputId": "2e15d65b-71af-4c00-9142-db280ecdff4e"
   },
   "outputs": [],
   "source": [
    "ax = sns.scatterplot(x=evals['bty_avg'],y=model0.resid)"
   ]
  },
  {
   "cell_type": "code",
   "execution_count": null,
   "metadata": {
    "id": "CHYDiy_Lpsnp",
    "outputId": "a3ccf1fb-2445-44b7-da52-47d06cf3ba76"
   },
   "outputs": [],
   "source": [
    "model0.params"
   ]
  },
  {
   "cell_type": "code",
   "execution_count": null,
   "metadata": {
    "id": "RVe5z3cZpsns",
    "outputId": "63ff269f-1e5c-422a-dc8b-835e7a7b2c5f"
   },
   "outputs": [],
   "source": [
    "model0.params.loc['bty_avg']"
   ]
  },
  {
   "cell_type": "code",
   "execution_count": null,
   "metadata": {
    "id": "EwnNNN_Cpsnv",
    "outputId": "9cbaf6c8-84f2-4936-ff22-4850a718a9c4"
   },
   "outputs": [],
   "source": [
    "model0.conf_int()"
   ]
  },
  {
   "cell_type": "markdown",
   "metadata": {},
   "source": [
    "## Bootstrapping the slope"
   ]
  },
  {
   "cell_type": "code",
   "execution_count": 44,
   "metadata": {
    "id": "KignsXu7psnx",
    "outputId": "0d058fa3-ae82-4672-c1f8-ca3bc81c74f0"
   },
   "outputs": [
    {
     "data": {
      "text/html": [
       "<div>\n",
       "<style scoped>\n",
       "    .dataframe tbody tr th:only-of-type {\n",
       "        vertical-align: middle;\n",
       "    }\n",
       "\n",
       "    .dataframe tbody tr th {\n",
       "        vertical-align: top;\n",
       "    }\n",
       "\n",
       "    .dataframe thead th {\n",
       "        text-align: right;\n",
       "    }\n",
       "</style>\n",
       "<table border=\"1\" class=\"dataframe\">\n",
       "  <thead>\n",
       "    <tr style=\"text-align: right;\">\n",
       "      <th></th>\n",
       "      <th>score</th>\n",
       "      <th>age</th>\n",
       "      <th>bty_avg</th>\n",
       "      <th>random</th>\n",
       "    </tr>\n",
       "  </thead>\n",
       "  <tbody>\n",
       "    <tr>\n",
       "      <th>323</th>\n",
       "      <td>4.5</td>\n",
       "      <td>52</td>\n",
       "      <td>2.333</td>\n",
       "      <td>4.2</td>\n",
       "    </tr>\n",
       "    <tr>\n",
       "      <th>193</th>\n",
       "      <td>3.9</td>\n",
       "      <td>44</td>\n",
       "      <td>6.500</td>\n",
       "      <td>3.7</td>\n",
       "    </tr>\n",
       "    <tr>\n",
       "      <th>319</th>\n",
       "      <td>4.5</td>\n",
       "      <td>52</td>\n",
       "      <td>2.333</td>\n",
       "      <td>4.3</td>\n",
       "    </tr>\n",
       "    <tr>\n",
       "      <th>232</th>\n",
       "      <td>4.0</td>\n",
       "      <td>49</td>\n",
       "      <td>6.500</td>\n",
       "      <td>4.2</td>\n",
       "    </tr>\n",
       "    <tr>\n",
       "      <th>113</th>\n",
       "      <td>4.0</td>\n",
       "      <td>57</td>\n",
       "      <td>4.333</td>\n",
       "      <td>4.5</td>\n",
       "    </tr>\n",
       "  </tbody>\n",
       "</table>\n",
       "</div>"
      ],
      "text/plain": [
       "     score  age  bty_avg  random\n",
       "323    4.5   52    2.333     4.2\n",
       "193    3.9   44    6.500     3.7\n",
       "319    4.5   52    2.333     4.3\n",
       "232    4.0   49    6.500     4.2\n",
       "113    4.0   57    4.333     4.5"
      ]
     },
     "execution_count": 44,
     "metadata": {},
     "output_type": "execute_result"
    }
   ],
   "source": [
    "evals_sample = evals.sample(n=len(evals),replace=True)\n",
    "evals_sample.head()"
   ]
  },
  {
   "cell_type": "code",
   "execution_count": null,
   "metadata": {
    "id": "Z3Pkteq8psn0",
    "outputId": "b46247b5-e648-40b2-ae57-bd3445969f1f"
   },
   "outputs": [],
   "source": [
    "nreps = 1000\n",
    "slopes = []\n",
    "for i in range(nreps):\n",
    "    evals_sample = evals.sample(n=len(evals),replace=True)\n",
    "    model = smf.ols(\"score ~ bty_avg\", data=evals_sample).fit()\n",
    "    slope = model.params.loc['bty_avg']\n",
    "    slopes.append(slope)\n",
    "mean = np.mean(slopes)\n",
    "sd = np.std(slopes)\n",
    "print(mean,sd)"
   ]
  },
  {
   "cell_type": "code",
   "execution_count": null,
   "metadata": {
    "id": "oh7fU6Jxpsn2"
   },
   "outputs": [],
   "source": [
    "lower_percentile = np.quantile(slopes,0.025)\n",
    "upper_percentile = np.quantile(slopes,0.975)"
   ]
  },
  {
   "cell_type": "code",
   "execution_count": null,
   "metadata": {
    "id": "6l0Kf2jspsn5",
    "outputId": "e98f1ada-903e-4f20-d867-0fd134ade99b"
   },
   "outputs": [],
   "source": [
    "ax = sns.histplot(slopes)\n",
    "ax.axvline(mean,color='magenta')\n",
    "ax.axvline(mean-2*sd,color='green')\n",
    "ax.axvline(mean+2*sd,color='green')\n",
    "ax.axvline(model0.conf_int().loc['bty_avg'].iloc[0],color='pink')\n",
    "ax.axvline(model0.conf_int().loc['bty_avg'].iloc[1],color='pink')\n",
    "ax.axvline(np.quantile(slopes,0.025),color='blue')\n",
    "ax.axvline(np.quantile(slopes,0.975),color='blue')"
   ]
  },
  {
   "cell_type": "markdown",
   "metadata": {
    "id": "I-mLMN3xpsor"
   },
   "source": [
    "## Hypothesis tests about the mean\n"
   ]
  },
  {
   "cell_type": "code",
   "execution_count": null,
   "metadata": {
    "scrolled": true
   },
   "outputs": [],
   "source": [
    "evals.head()"
   ]
  },
  {
   "cell_type": "code",
   "execution_count": null,
   "metadata": {},
   "outputs": [],
   "source": [
    "evals_shuffled = evals.copy()\n",
    "evals_shuffled['score'] = np.random.permutation(evals['score'].values)\n"
   ]
  },
  {
   "cell_type": "code",
   "execution_count": null,
   "metadata": {},
   "outputs": [],
   "source": [
    "nreps = 1000\n",
    "slopes = []\n",
    "for i in range(nreps):\n",
    "    evals_shuffled['score'] = np.random.permutation(evals_shuffled['score'].values)\n",
    "#    evals_sample = evals.sample(n=len(evals),replace=True)\n",
    "    model = smf.ols(\"score ~ bty_avg\", data=evals_shuffled).fit()\n",
    "    slope = model.params.loc['bty_avg']\n",
    "    slopes.append(slope)\n",
    "mean = np.mean(slopes)\n",
    "sd = np.std(slopes)\n",
    "print(mean,sd)\n",
    "\n"
   ]
  },
  {
   "cell_type": "code",
   "execution_count": null,
   "metadata": {
    "scrolled": true
   },
   "outputs": [],
   "source": [
    "ax = sns.histplot(slopes)"
   ]
  },
  {
   "cell_type": "code",
   "execution_count": null,
   "metadata": {},
   "outputs": [],
   "source": [
    "obs_slope = model0.params.loc['bty_avg']\n",
    "obs_slope"
   ]
  },
  {
   "cell_type": "code",
   "execution_count": null,
   "metadata": {
    "scrolled": true
   },
   "outputs": [],
   "source": [
    "ax = sns.histplot(slopes)\n",
    "ax.axvline(obs_slope,color='red')"
   ]
  },
  {
   "cell_type": "code",
   "execution_count": null,
   "metadata": {},
   "outputs": [],
   "source": [
    "test_statistic = (obs_slope - mean)/sd"
   ]
  },
  {
   "cell_type": "code",
   "execution_count": null,
   "metadata": {},
   "outputs": [],
   "source": [
    "test_statistic"
   ]
  },
  {
   "cell_type": "code",
   "execution_count": null,
   "metadata": {},
   "outputs": [],
   "source": [
    "import scipy.stats as st\n",
    "st.norm.cdf(test_statistic,len(evals)-1)"
   ]
  },
  {
   "cell_type": "code",
   "execution_count": null,
   "metadata": {},
   "outputs": [],
   "source": [
    "1 - st.norm.cdf(test_statistic)"
   ]
  },
  {
   "cell_type": "code",
   "execution_count": null,
   "metadata": {},
   "outputs": [],
   "source": [
    "print('%0.8f' % (1 - st.norm.cdf(test_statistic)))"
   ]
  },
  {
   "cell_type": "code",
   "execution_count": null,
   "metadata": {},
   "outputs": [],
   "source": []
  }
 ],
 "metadata": {
  "celltoolbar": "Slideshow",
  "colab": {
   "name": "544_Python_Demo.ipynb",
   "provenance": []
  },
  "kernelspec": {
   "display_name": "Python 3",
   "language": "python",
   "name": "python3"
  },
  "language_info": {
   "codemirror_mode": {
    "name": "ipython",
    "version": 3
   },
   "file_extension": ".py",
   "mimetype": "text/x-python",
   "name": "python",
   "nbconvert_exporter": "python",
   "pygments_lexer": "ipython3",
   "version": "3.6.11"
  }
 },
 "nbformat": 4,
 "nbformat_minor": 1
}
